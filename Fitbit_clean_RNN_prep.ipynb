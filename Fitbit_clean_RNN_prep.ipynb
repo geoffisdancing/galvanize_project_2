{
 "cells": [
  {
   "cell_type": "markdown",
   "metadata": {},
   "source": [
    "# General Fitbit Data exploration"
   ]
  },
  {
   "cell_type": "code",
   "execution_count": 1,
   "metadata": {
    "collapsed": false
   },
   "outputs": [
    {
     "name": "stderr",
     "output_type": "stream",
     "text": [
      "/Users/sf321092/anaconda/lib/python2.7/site-packages/matplotlib/font_manager.py:273: UserWarning: Matplotlib is building the font cache using fc-list. This may take a moment.\n",
      "  warnings.warn('Matplotlib is building the font cache using fc-list. This may take a moment.')\n"
     ]
    }
   ],
   "source": [
    "import pandas as pd\n",
    "import matplotlib.pyplot as plt\n",
    "import numpy as np\n",
    "import seaborn"
   ]
  },
  {
   "cell_type": "code",
   "execution_count": 2,
   "metadata": {
    "collapsed": false
   },
   "outputs": [],
   "source": [
    "#load fitbit data\n",
    "fit = pd.read_table('meas_fitbit_tracker.txt', sep='|', parse_dates=[1])\n",
    "fit['date']=pd.to_datetime(fit['date'], format='%m/%d/%Y') #convert fitbit date to datetime\n"
   ]
  },
  {
   "cell_type": "code",
   "execution_count": 3,
   "metadata": {
    "collapsed": false
   },
   "outputs": [
    {
     "data": {
      "text/plain": [
       "(1503058, 8)"
      ]
     },
     "execution_count": 3,
     "metadata": {},
     "output_type": "execute_result"
    }
   ],
   "source": [
    "fit.shape"
   ]
  },
  {
   "cell_type": "code",
   "execution_count": 4,
   "metadata": {
    "collapsed": false
   },
   "outputs": [
    {
     "data": {
      "text/plain": [
       "Index([u'user_id', u'date', u'steps', u'distance', u'calories', u'floors',\n",
       "       u'elevation', u'device_type'],\n",
       "      dtype='object')"
      ]
     },
     "execution_count": 4,
     "metadata": {},
     "output_type": "execute_result"
    }
   ],
   "source": [
    "fit.columns"
   ]
  },
  {
   "cell_type": "code",
   "execution_count": 5,
   "metadata": {
    "collapsed": true
   },
   "outputs": [],
   "source": [
    "fit = fit.drop(['distance', 'calories', 'floors', 'elevation'], axis=1)"
   ]
  },
  {
   "cell_type": "code",
   "execution_count": 6,
   "metadata": {
    "collapsed": false
   },
   "outputs": [
    {
     "data": {
      "text/plain": [
       "(1503058, 4)"
      ]
     },
     "execution_count": 6,
     "metadata": {},
     "output_type": "execute_result"
    }
   ],
   "source": [
    "fit.shape"
   ]
  },
  {
   "cell_type": "code",
   "execution_count": 7,
   "metadata": {
    "collapsed": false
   },
   "outputs": [
    {
     "data": {
      "text/html": [
       "<div>\n",
       "<table border=\"1\" class=\"dataframe\">\n",
       "  <thead>\n",
       "    <tr style=\"text-align: right;\">\n",
       "      <th></th>\n",
       "      <th>user_id</th>\n",
       "      <th>date</th>\n",
       "      <th>steps</th>\n",
       "      <th>device_type</th>\n",
       "    </tr>\n",
       "  </thead>\n",
       "  <tbody>\n",
       "    <tr>\n",
       "      <th>0</th>\n",
       "      <td>12</td>\n",
       "      <td>2013-10-25</td>\n",
       "      <td>0.0</td>\n",
       "      <td>NaN</td>\n",
       "    </tr>\n",
       "    <tr>\n",
       "      <th>1</th>\n",
       "      <td>12</td>\n",
       "      <td>2013-08-07</td>\n",
       "      <td>0.0</td>\n",
       "      <td>NaN</td>\n",
       "    </tr>\n",
       "    <tr>\n",
       "      <th>2</th>\n",
       "      <td>12</td>\n",
       "      <td>2015-01-17</td>\n",
       "      <td>0.0</td>\n",
       "      <td>NaN</td>\n",
       "    </tr>\n",
       "    <tr>\n",
       "      <th>3</th>\n",
       "      <td>12</td>\n",
       "      <td>2014-11-20</td>\n",
       "      <td>4912.0</td>\n",
       "      <td>NaN</td>\n",
       "    </tr>\n",
       "    <tr>\n",
       "      <th>4</th>\n",
       "      <td>12</td>\n",
       "      <td>2014-06-30</td>\n",
       "      <td>7029.0</td>\n",
       "      <td>NaN</td>\n",
       "    </tr>\n",
       "  </tbody>\n",
       "</table>\n",
       "</div>"
      ],
      "text/plain": [
       "   user_id       date   steps device_type\n",
       "0       12 2013-10-25     0.0         NaN\n",
       "1       12 2013-08-07     0.0         NaN\n",
       "2       12 2015-01-17     0.0         NaN\n",
       "3       12 2014-11-20  4912.0         NaN\n",
       "4       12 2014-06-30  7029.0         NaN"
      ]
     },
     "execution_count": 7,
     "metadata": {},
     "output_type": "execute_result"
    }
   ],
   "source": [
    "fit.head()"
   ]
  },
  {
   "cell_type": "code",
   "execution_count": 58,
   "metadata": {
    "collapsed": true
   },
   "outputs": [],
   "source": [
    "fit_mini = fit[fit.user_id<=13]"
   ]
  },
  {
   "cell_type": "code",
   "execution_count": 16,
   "metadata": {
    "collapsed": false
   },
   "outputs": [
    {
     "data": {
      "text/plain": [
       "(1574, 4)"
      ]
     },
     "execution_count": 16,
     "metadata": {},
     "output_type": "execute_result"
    }
   ],
   "source": [
    "fit_mini.shape"
   ]
  },
  {
   "cell_type": "code",
   "execution_count": 17,
   "metadata": {
    "collapsed": false
   },
   "outputs": [
    {
     "data": {
      "text/plain": [
       "array([12, 13])"
      ]
     },
     "execution_count": 17,
     "metadata": {},
     "output_type": "execute_result"
    }
   ],
   "source": [
    "fit_mini.user_id.unique()"
   ]
  },
  {
   "cell_type": "code",
   "execution_count": 38,
   "metadata": {
    "collapsed": false
   },
   "outputs": [
    {
     "data": {
      "text/plain": [
       "12"
      ]
     },
     "execution_count": 38,
     "metadata": {},
     "output_type": "execute_result"
    }
   ],
   "source": [
    "fit_mini.user_id[12]"
   ]
  },
  {
   "cell_type": "code",
   "execution_count": null,
   "metadata": {
    "collapsed": false
   },
   "outputs": [],
   "source": [
    "fit_mini['date'].groupby(fit_mini['user_id']).transform('count')"
   ]
  },
  {
   "cell_type": "code",
   "execution_count": 59,
   "metadata": {
    "collapsed": false
   },
   "outputs": [
    {
     "name": "stderr",
     "output_type": "stream",
     "text": [
      "/Users/sf321092/anaconda/lib/python2.7/site-packages/ipykernel/__main__.py:1: SettingWithCopyWarning: \n",
      "A value is trying to be set on a copy of a slice from a DataFrame.\n",
      "Try using .loc[row_indexer,col_indexer] = value instead\n",
      "\n",
      "See the caveats in the documentation: http://pandas.pydata.org/pandas-docs/stable/indexing.html#indexing-view-versus-copy\n",
      "  if __name__ == '__main__':\n"
     ]
    }
   ],
   "source": [
    "#create new column of days used in fit_mini df\n",
    "fit_mini['days_used']=fit_mini['date'].groupby(fit_mini['user_id']).transform('count')"
   ]
  },
  {
   "cell_type": "code",
   "execution_count": 60,
   "metadata": {
    "collapsed": false
   },
   "outputs": [
    {
     "data": {
      "text/html": [
       "<div>\n",
       "<table border=\"1\" class=\"dataframe\">\n",
       "  <thead>\n",
       "    <tr style=\"text-align: right;\">\n",
       "      <th></th>\n",
       "      <th>user_id</th>\n",
       "      <th>date</th>\n",
       "      <th>steps</th>\n",
       "      <th>device_type</th>\n",
       "      <th>days_used</th>\n",
       "    </tr>\n",
       "  </thead>\n",
       "  <tbody>\n",
       "    <tr>\n",
       "      <th>0</th>\n",
       "      <td>12</td>\n",
       "      <td>2013-10-25</td>\n",
       "      <td>0.0</td>\n",
       "      <td>NaN</td>\n",
       "      <td>856</td>\n",
       "    </tr>\n",
       "    <tr>\n",
       "      <th>1</th>\n",
       "      <td>12</td>\n",
       "      <td>2013-08-07</td>\n",
       "      <td>0.0</td>\n",
       "      <td>NaN</td>\n",
       "      <td>856</td>\n",
       "    </tr>\n",
       "    <tr>\n",
       "      <th>2</th>\n",
       "      <td>12</td>\n",
       "      <td>2015-01-17</td>\n",
       "      <td>0.0</td>\n",
       "      <td>NaN</td>\n",
       "      <td>856</td>\n",
       "    </tr>\n",
       "    <tr>\n",
       "      <th>3</th>\n",
       "      <td>12</td>\n",
       "      <td>2014-11-20</td>\n",
       "      <td>4912.0</td>\n",
       "      <td>NaN</td>\n",
       "      <td>856</td>\n",
       "    </tr>\n",
       "    <tr>\n",
       "      <th>4</th>\n",
       "      <td>12</td>\n",
       "      <td>2014-06-30</td>\n",
       "      <td>7029.0</td>\n",
       "      <td>NaN</td>\n",
       "      <td>856</td>\n",
       "    </tr>\n",
       "  </tbody>\n",
       "</table>\n",
       "</div>"
      ],
      "text/plain": [
       "   user_id       date   steps device_type  days_used\n",
       "0       12 2013-10-25     0.0         NaN        856\n",
       "1       12 2013-08-07     0.0         NaN        856\n",
       "2       12 2015-01-17     0.0         NaN        856\n",
       "3       12 2014-11-20  4912.0         NaN        856\n",
       "4       12 2014-06-30  7029.0         NaN        856"
      ]
     },
     "execution_count": 60,
     "metadata": {},
     "output_type": "execute_result"
    }
   ],
   "source": [
    "fit_mini.head()"
   ]
  },
  {
   "cell_type": "code",
   "execution_count": null,
   "metadata": {
    "collapsed": false
   },
   "outputs": [],
   "source": [
    "#doesn't work\n",
    "#trying to make an additional \"days used\" column\n",
    "def f(row):\n",
    "    if fit_mini['user_id'].ix[row,:]==user:\n",
    "        return result\n",
    "\n",
    "for user in fit_mini.user_id.unique():\n",
    "    result = fit_mini.groupby('user_id').count()['date'].ix[user]\n",
    "    \n",
    "    fit_mini['days_used'] = fit_mini.apply(f()\n",
    "    \n",
    "#   fit_mini['days_used']=np.where(fit_mini['user_id']==user, result, fit_mini['days_used'])\n",
    "    \n",
    "#     fit_mini['days_used']= fit_mini.apply(f(result, user), axis=1)\n",
    "    \n",
    "#     for row in xrange(len(fit_mini.user_id)):\n",
    "#         if fit_mini.user_id.loc[row]==user:\n",
    "#             fit_mini['days_used']=result\n",
    "\n",
    "#     fit_mini[fit_mini.user_id==user]['days_used'] = result\n",
    "    \n",
    "#     for row in xrange(len(fit_mini.user_id==user)):\n",
    "#         fit_mini['days_used'] = result\n",
    "#     for user in fit.user_id.unique():\n",
    "#     result = fit.groupby('user_id').count()['date'].ix[user]\n",
    "#     for row in xrange(len(fit.user_id==user)):\n",
    "#         fit['days_used'][row] = result\n",
    "    "
   ]
  },
  {
   "cell_type": "code",
   "execution_count": 49,
   "metadata": {
    "collapsed": false
   },
   "outputs": [
    {
     "data": {
      "text/html": [
       "<div>\n",
       "<table border=\"1\" class=\"dataframe\">\n",
       "  <thead>\n",
       "    <tr style=\"text-align: right;\">\n",
       "      <th></th>\n",
       "      <th>user_id</th>\n",
       "      <th>date</th>\n",
       "      <th>steps</th>\n",
       "      <th>device_type</th>\n",
       "      <th>days_used</th>\n",
       "    </tr>\n",
       "  </thead>\n",
       "  <tbody>\n",
       "    <tr>\n",
       "      <th>0</th>\n",
       "      <td>12</td>\n",
       "      <td>2013-10-25</td>\n",
       "      <td>0.0</td>\n",
       "      <td>NaN</td>\n",
       "      <td>856</td>\n",
       "    </tr>\n",
       "    <tr>\n",
       "      <th>1</th>\n",
       "      <td>12</td>\n",
       "      <td>2013-08-07</td>\n",
       "      <td>0.0</td>\n",
       "      <td>NaN</td>\n",
       "      <td>856</td>\n",
       "    </tr>\n",
       "    <tr>\n",
       "      <th>2</th>\n",
       "      <td>12</td>\n",
       "      <td>2015-01-17</td>\n",
       "      <td>0.0</td>\n",
       "      <td>NaN</td>\n",
       "      <td>856</td>\n",
       "    </tr>\n",
       "    <tr>\n",
       "      <th>3</th>\n",
       "      <td>12</td>\n",
       "      <td>2014-11-20</td>\n",
       "      <td>4912.0</td>\n",
       "      <td>NaN</td>\n",
       "      <td>856</td>\n",
       "    </tr>\n",
       "    <tr>\n",
       "      <th>4</th>\n",
       "      <td>12</td>\n",
       "      <td>2014-06-30</td>\n",
       "      <td>7029.0</td>\n",
       "      <td>NaN</td>\n",
       "      <td>856</td>\n",
       "    </tr>\n",
       "  </tbody>\n",
       "</table>\n",
       "</div>"
      ],
      "text/plain": [
       "   user_id       date   steps device_type  days_used\n",
       "0       12 2013-10-25     0.0         NaN        856\n",
       "1       12 2013-08-07     0.0         NaN        856\n",
       "2       12 2015-01-17     0.0         NaN        856\n",
       "3       12 2014-11-20  4912.0         NaN        856\n",
       "4       12 2014-06-30  7029.0         NaN        856"
      ]
     },
     "execution_count": 49,
     "metadata": {},
     "output_type": "execute_result"
    }
   ],
   "source": [
    "fit_mini.head()"
   ]
  },
  {
   "cell_type": "code",
   "execution_count": 50,
   "metadata": {
    "collapsed": false
   },
   "outputs": [
    {
     "data": {
      "text/plain": [
       "date           856\n",
       "steps          856\n",
       "device_type    174\n",
       "Name: 12, dtype: int64"
      ]
     },
     "execution_count": 50,
     "metadata": {},
     "output_type": "execute_result"
    }
   ],
   "source": [
    "fit.groupby('user_id').count().ix[12]"
   ]
  },
  {
   "cell_type": "code",
   "execution_count": 61,
   "metadata": {
    "collapsed": false
   },
   "outputs": [],
   "source": [
    "#now create a days used column for the entire fit df\n",
    "fit['days_used']=fit['date'].groupby(fit['user_id']).transform('count')"
   ]
  },
  {
   "cell_type": "code",
   "execution_count": null,
   "metadata": {
    "collapsed": true
   },
   "outputs": [],
   "source": [
    "##here i will pause to try to run a recurrent neural network on daily data.\n",
    "#so what i need to do is to create an X df with the last 60d of people's step data\n",
    "#ranging from 0 to x (convert NaN to 0)\n",
    "#and a Y df with blockages in coroary vs. not \n",
    "# so start by creating datasets according to these parameters "
   ]
  },
  {
   "cell_type": "code",
   "execution_count": null,
   "metadata": {
    "collapsed": false
   },
   "outputs": [],
   "source": [
    "# 25% of people have at least 8 months of data, so I'm curious to determine how many have >6mo or 180 days. \n",
    "np.sum(fit.groupby('user_id').count()['date']<180)/2250."
   ]
  },
  {
   "cell_type": "code",
   "execution_count": null,
   "metadata": {
    "collapsed": true
   },
   "outputs": [],
   "source": [
    "# so 13% have <180. So I'm comfortable using that as a cut-off. \n",
    "# So I will drop those with <180 days of data"
   ]
  },
  {
   "cell_type": "code",
   "execution_count": null,
   "metadata": {
    "collapsed": false
   },
   "outputs": [],
   "source": [
    "#testing drop based on days used on fit_mini\n",
    "fit_mini.drop(fit_mini[fit_mini.days_used <750].index)"
   ]
  },
  {
   "cell_type": "code",
   "execution_count": 77,
   "metadata": {
    "collapsed": false
   },
   "outputs": [
    {
     "data": {
      "text/plain": [
       "2250"
      ]
     },
     "execution_count": 77,
     "metadata": {},
     "output_type": "execute_result"
    }
   ],
   "source": [
    "# First data-clean: drop users with days_used < 180\n",
    "fit_clean = fit\n",
    "len(fit_clean.user_id.unique())"
   ]
  },
  {
   "cell_type": "code",
   "execution_count": 79,
   "metadata": {
    "collapsed": false
   },
   "outputs": [
    {
     "data": {
      "text/plain": [
       "1938"
      ]
     },
     "execution_count": 79,
     "metadata": {},
     "output_type": "execute_result"
    }
   ],
   "source": [
    "fit_clean.drop(fit_clean[fit_clean.days_used<180].index, inplace=True)\n",
    "len(fit_clean.user_id.unique())\n",
    "#So it appears we drop 2250-1938 user_ids based on days_used <180"
   ]
  },
  {
   "cell_type": "code",
   "execution_count": 83,
   "metadata": {
    "collapsed": false
   },
   "outputs": [
    {
     "data": {
      "text/plain": [
       "(1474444, 5)"
      ]
     },
     "execution_count": 83,
     "metadata": {},
     "output_type": "execute_result"
    }
   ],
   "source": [
    "fit_clean.shape"
   ]
  },
  {
   "cell_type": "code",
   "execution_count": 85,
   "metadata": {
    "collapsed": false
   },
   "outputs": [
    {
     "data": {
      "text/html": [
       "<div>\n",
       "<table border=\"1\" class=\"dataframe\">\n",
       "  <thead>\n",
       "    <tr style=\"text-align: right;\">\n",
       "      <th></th>\n",
       "      <th>date</th>\n",
       "      <th>steps</th>\n",
       "      <th>device_type</th>\n",
       "      <th>days_used</th>\n",
       "    </tr>\n",
       "  </thead>\n",
       "  <tbody>\n",
       "    <tr>\n",
       "      <th>count</th>\n",
       "      <td>1938.000000</td>\n",
       "      <td>1938.000000</td>\n",
       "      <td>1938.000000</td>\n",
       "      <td>1938.000000</td>\n",
       "    </tr>\n",
       "    <tr>\n",
       "      <th>mean</th>\n",
       "      <td>760.807018</td>\n",
       "      <td>617.691434</td>\n",
       "      <td>759.699690</td>\n",
       "      <td>760.807018</td>\n",
       "    </tr>\n",
       "    <tr>\n",
       "      <th>std</th>\n",
       "      <td>444.505486</td>\n",
       "      <td>364.250526</td>\n",
       "      <td>445.023266</td>\n",
       "      <td>444.505486</td>\n",
       "    </tr>\n",
       "    <tr>\n",
       "      <th>min</th>\n",
       "      <td>180.000000</td>\n",
       "      <td>0.000000</td>\n",
       "      <td>4.000000</td>\n",
       "      <td>180.000000</td>\n",
       "    </tr>\n",
       "    <tr>\n",
       "      <th>25%</th>\n",
       "      <td>400.500000</td>\n",
       "      <td>302.000000</td>\n",
       "      <td>399.250000</td>\n",
       "      <td>400.500000</td>\n",
       "    </tr>\n",
       "    <tr>\n",
       "      <th>50%</th>\n",
       "      <td>698.000000</td>\n",
       "      <td>565.000000</td>\n",
       "      <td>695.000000</td>\n",
       "      <td>698.000000</td>\n",
       "    </tr>\n",
       "    <tr>\n",
       "      <th>75%</th>\n",
       "      <td>1004.750000</td>\n",
       "      <td>889.500000</td>\n",
       "      <td>1003.500000</td>\n",
       "      <td>1004.750000</td>\n",
       "    </tr>\n",
       "    <tr>\n",
       "      <th>max</th>\n",
       "      <td>2496.000000</td>\n",
       "      <td>1670.000000</td>\n",
       "      <td>2496.000000</td>\n",
       "      <td>2496.000000</td>\n",
       "    </tr>\n",
       "  </tbody>\n",
       "</table>\n",
       "</div>"
      ],
      "text/plain": [
       "              date        steps  device_type    days_used\n",
       "count  1938.000000  1938.000000  1938.000000  1938.000000\n",
       "mean    760.807018   617.691434   759.699690   760.807018\n",
       "std     444.505486   364.250526   445.023266   444.505486\n",
       "min     180.000000     0.000000     4.000000   180.000000\n",
       "25%     400.500000   302.000000   399.250000   400.500000\n",
       "50%     698.000000   565.000000   695.000000   698.000000\n",
       "75%    1004.750000   889.500000  1003.500000  1004.750000\n",
       "max    2496.000000  1670.000000  2496.000000  2496.000000"
      ]
     },
     "execution_count": 85,
     "metadata": {},
     "output_type": "execute_result"
    }
   ],
   "source": [
    "fit_clean.groupby('user_id').count().describe()"
   ]
  },
  {
   "cell_type": "code",
   "execution_count": 93,
   "metadata": {
    "collapsed": false
   },
   "outputs": [
    {
     "name": "stderr",
     "output_type": "stream",
     "text": [
      "/Users/sf321092/anaconda/lib/python2.7/site-packages/ipykernel/__main__.py:3: SettingWithCopyWarning: \n",
      "A value is trying to be set on a copy of a slice from a DataFrame.\n",
      "Try using .loc[row_indexer,col_indexer] = value instead\n",
      "\n",
      "See the caveats in the documentation: http://pandas.pydata.org/pandas-docs/stable/indexing.html#indexing-view-versus-copy\n",
      "  app.launch_new_instance()\n"
     ]
    }
   ],
   "source": [
    "#Now to create a dataset with only the last 60d of data for people \n",
    "#start by calculating the max date for everyone\n",
    "fit_mini['max_date']=fit_mini['date'].groupby(fit_mini['user_id']).transform('max')"
   ]
  },
  {
   "cell_type": "code",
   "execution_count": null,
   "metadata": {
    "collapsed": false
   },
   "outputs": [],
   "source": [
    "#testing code to drop dates < 60d from max per person\n",
    "from datetime import timedelta\n",
    "#fit_mini shape (1574, 6)\n",
    "fit_mini.drop(fit_mini[fit_mini.date<(fit_mini.max_date-timedelta(days=59))].index)"
   ]
  },
  {
   "cell_type": "code",
   "execution_count": 111,
   "metadata": {
    "collapsed": false
   },
   "outputs": [
    {
     "data": {
      "text/html": [
       "<div>\n",
       "<table border=\"1\" class=\"dataframe\">\n",
       "  <thead>\n",
       "    <tr style=\"text-align: right;\">\n",
       "      <th></th>\n",
       "      <th>user_id</th>\n",
       "      <th>date</th>\n",
       "      <th>steps</th>\n",
       "      <th>device_type</th>\n",
       "      <th>days_used</th>\n",
       "      <th>max_date</th>\n",
       "    </tr>\n",
       "  </thead>\n",
       "  <tbody>\n",
       "    <tr>\n",
       "      <th>0</th>\n",
       "      <td>12</td>\n",
       "      <td>2013-10-25</td>\n",
       "      <td>0.0</td>\n",
       "      <td>NaN</td>\n",
       "      <td>856</td>\n",
       "      <td>2015-08-01</td>\n",
       "    </tr>\n",
       "    <tr>\n",
       "      <th>1</th>\n",
       "      <td>12</td>\n",
       "      <td>2013-08-07</td>\n",
       "      <td>0.0</td>\n",
       "      <td>NaN</td>\n",
       "      <td>856</td>\n",
       "      <td>2015-08-01</td>\n",
       "    </tr>\n",
       "    <tr>\n",
       "      <th>2</th>\n",
       "      <td>12</td>\n",
       "      <td>2015-01-17</td>\n",
       "      <td>0.0</td>\n",
       "      <td>NaN</td>\n",
       "      <td>856</td>\n",
       "      <td>2015-08-01</td>\n",
       "    </tr>\n",
       "    <tr>\n",
       "      <th>3</th>\n",
       "      <td>12</td>\n",
       "      <td>2014-11-20</td>\n",
       "      <td>4912.0</td>\n",
       "      <td>NaN</td>\n",
       "      <td>856</td>\n",
       "      <td>2015-08-01</td>\n",
       "    </tr>\n",
       "    <tr>\n",
       "      <th>4</th>\n",
       "      <td>12</td>\n",
       "      <td>2014-06-30</td>\n",
       "      <td>7029.0</td>\n",
       "      <td>NaN</td>\n",
       "      <td>856</td>\n",
       "      <td>2015-08-01</td>\n",
       "    </tr>\n",
       "  </tbody>\n",
       "</table>\n",
       "</div>"
      ],
      "text/plain": [
       "   user_id       date   steps device_type  days_used   max_date\n",
       "0       12 2013-10-25     0.0         NaN        856 2015-08-01\n",
       "1       12 2013-08-07     0.0         NaN        856 2015-08-01\n",
       "2       12 2015-01-17     0.0         NaN        856 2015-08-01\n",
       "3       12 2014-11-20  4912.0         NaN        856 2015-08-01\n",
       "4       12 2014-06-30  7029.0         NaN        856 2015-08-01"
      ]
     },
     "execution_count": 111,
     "metadata": {},
     "output_type": "execute_result"
    }
   ],
   "source": [
    "fit_mini.head()"
   ]
  },
  {
   "cell_type": "code",
   "execution_count": 116,
   "metadata": {
    "collapsed": false
   },
   "outputs": [
    {
     "data": {
      "text/plain": [
       "user_id        \n",
       "12       count                     856\n",
       "         unique                    856\n",
       "         top       2015-07-19 00:00:00\n",
       "         freq                        1\n",
       "         first     2013-03-29 00:00:00\n",
       "         last      2015-08-01 00:00:00\n",
       "13       count                     718\n",
       "         unique                    718\n",
       "         top       2014-05-28 00:00:00\n",
       "         freq                        1\n",
       "         first     2013-03-28 00:00:00\n",
       "         last      2015-03-15 00:00:00\n",
       "dtype: object"
      ]
     },
     "execution_count": 116,
     "metadata": {},
     "output_type": "execute_result"
    }
   ],
   "source": [
    "fit_mini['date'].groupby(fit_mini.user_id).describe()"
   ]
  },
  {
   "cell_type": "code",
   "execution_count": 117,
   "metadata": {
    "collapsed": false
   },
   "outputs": [
    {
     "name": "stderr",
     "output_type": "stream",
     "text": [
      "/Users/sf321092/anaconda/lib/python2.7/site-packages/ipykernel/__main__.py:1: SettingWithCopyWarning: \n",
      "A value is trying to be set on a copy of a slice from a DataFrame\n",
      "\n",
      "See the caveats in the documentation: http://pandas.pydata.org/pandas-docs/stable/indexing.html#indexing-view-versus-copy\n",
      "  if __name__ == '__main__':\n"
     ]
    }
   ],
   "source": [
    "fit_mini.drop(fit_mini[fit_mini.date<(fit_mini.max_date-timedelta(days=59))].index, inplace=True)"
   ]
  },
  {
   "cell_type": "code",
   "execution_count": 118,
   "metadata": {
    "collapsed": false
   },
   "outputs": [
    {
     "data": {
      "text/plain": [
       "user_id        \n",
       "12       count                      60\n",
       "         unique                     60\n",
       "         top       2015-07-19 00:00:00\n",
       "         freq                        1\n",
       "         first     2015-06-03 00:00:00\n",
       "         last      2015-08-01 00:00:00\n",
       "13       count                      60\n",
       "         unique                     60\n",
       "         top       2015-02-07 00:00:00\n",
       "         freq                        1\n",
       "         first     2015-01-15 00:00:00\n",
       "         last      2015-03-15 00:00:00\n",
       "dtype: object"
      ]
     },
     "execution_count": 118,
     "metadata": {},
     "output_type": "execute_result"
    }
   ],
   "source": [
    "fit_mini['date'].groupby(fit_mini.user_id).describe()"
   ]
  },
  {
   "cell_type": "code",
   "execution_count": 121,
   "metadata": {
    "collapsed": false
   },
   "outputs": [
    {
     "data": {
      "text/html": [
       "<div>\n",
       "<table border=\"1\" class=\"dataframe\">\n",
       "  <thead>\n",
       "    <tr style=\"text-align: right;\">\n",
       "      <th></th>\n",
       "      <th>user_id</th>\n",
       "      <th>date</th>\n",
       "      <th>steps</th>\n",
       "      <th>device_type</th>\n",
       "      <th>days_used</th>\n",
       "      <th>max_date</th>\n",
       "    </tr>\n",
       "  </thead>\n",
       "  <tbody>\n",
       "    <tr>\n",
       "      <th>685</th>\n",
       "      <td>12</td>\n",
       "      <td>2015-07-30</td>\n",
       "      <td>2317.0</td>\n",
       "      <td>MobileTrack</td>\n",
       "      <td>856</td>\n",
       "      <td>2015-08-01</td>\n",
       "    </tr>\n",
       "    <tr>\n",
       "      <th>686</th>\n",
       "      <td>12</td>\n",
       "      <td>2015-07-29</td>\n",
       "      <td>0.0</td>\n",
       "      <td>MobileTrack</td>\n",
       "      <td>856</td>\n",
       "      <td>2015-08-01</td>\n",
       "    </tr>\n",
       "    <tr>\n",
       "      <th>687</th>\n",
       "      <td>12</td>\n",
       "      <td>2015-07-21</td>\n",
       "      <td>0.0</td>\n",
       "      <td>MobileTrack</td>\n",
       "      <td>856</td>\n",
       "      <td>2015-08-01</td>\n",
       "    </tr>\n",
       "    <tr>\n",
       "      <th>688</th>\n",
       "      <td>12</td>\n",
       "      <td>2015-07-23</td>\n",
       "      <td>0.0</td>\n",
       "      <td>MobileTrack</td>\n",
       "      <td>856</td>\n",
       "      <td>2015-08-01</td>\n",
       "    </tr>\n",
       "    <tr>\n",
       "      <th>689</th>\n",
       "      <td>12</td>\n",
       "      <td>2015-07-25</td>\n",
       "      <td>0.0</td>\n",
       "      <td>MobileTrack</td>\n",
       "      <td>856</td>\n",
       "      <td>2015-08-01</td>\n",
       "    </tr>\n",
       "  </tbody>\n",
       "</table>\n",
       "</div>"
      ],
      "text/plain": [
       "     user_id       date   steps  device_type  days_used   max_date\n",
       "685       12 2015-07-30  2317.0  MobileTrack        856 2015-08-01\n",
       "686       12 2015-07-29     0.0  MobileTrack        856 2015-08-01\n",
       "687       12 2015-07-21     0.0  MobileTrack        856 2015-08-01\n",
       "688       12 2015-07-23     0.0  MobileTrack        856 2015-08-01\n",
       "689       12 2015-07-25     0.0  MobileTrack        856 2015-08-01"
      ]
     },
     "execution_count": 121,
     "metadata": {},
     "output_type": "execute_result"
    }
   ],
   "source": [
    "fit_clean['max_date']=fit_clean['date'].groupby(fit_clean['user_id']).transform('max')\n",
    "fit_clean.drop(fit_clean[fit_clean.date<(fit_clean.max_date-timedelta(days=59))].index, inplace=True)\n",
    "fit_clean.head()"
   ]
  },
  {
   "cell_type": "code",
   "execution_count": 122,
   "metadata": {
    "collapsed": false
   },
   "outputs": [
    {
     "data": {
      "text/plain": [
       "(116281, 6)"
      ]
     },
     "execution_count": 122,
     "metadata": {},
     "output_type": "execute_result"
    }
   ],
   "source": [
    "fit_clean.shape"
   ]
  },
  {
   "cell_type": "code",
   "execution_count": 126,
   "metadata": {
    "collapsed": false
   },
   "outputs": [
    {
     "data": {
      "text/plain": [
       "3602"
      ]
     },
     "execution_count": 126,
     "metadata": {},
     "output_type": "execute_result"
    }
   ],
   "source": [
    "fit_clean.steps.isnull().sum()"
   ]
  },
  {
   "cell_type": "code",
   "execution_count": 129,
   "metadata": {
    "collapsed": false
   },
   "outputs": [],
   "source": [
    "fit_clean.steps.fillna(0, inplace=True)"
   ]
  },
  {
   "cell_type": "code",
   "execution_count": 130,
   "metadata": {
    "collapsed": false
   },
   "outputs": [
    {
     "data": {
      "text/plain": [
       "0"
      ]
     },
     "execution_count": 130,
     "metadata": {},
     "output_type": "execute_result"
    }
   ],
   "source": [
    "fit_clean.steps.isnull().sum()"
   ]
  },
  {
   "cell_type": "code",
   "execution_count": 131,
   "metadata": {
    "collapsed": false
   },
   "outputs": [
    {
     "name": "stderr",
     "output_type": "stream",
     "text": [
      "/Users/sf321092/anaconda/lib/python2.7/site-packages/IPython/core/interactiveshell.py:2723: DtypeWarning: Columns (16,17) have mixed types. Specify dtype option on import or set low_memory=False.\n",
      "  interactivity=interactivity, compiler=compiler, result=result)\n"
     ]
    }
   ],
   "source": [
    "# so next step is to merge fit_clean with medical conditions df and then select those with diseases/nondiseases to comprise the X, and have hte labels Y\n",
    "\n",
    "\n",
    "#load med condition-full-cohort data    \n",
    "med_cond = pd.read_table('surv_medical_conditions.txt', sep='|')"
   ]
  },
  {
   "cell_type": "code",
   "execution_count": 133,
   "metadata": {
    "collapsed": false
   },
   "outputs": [
    {
     "data": {
      "text/html": [
       "<div>\n",
       "<table border=\"1\" class=\"dataframe\">\n",
       "  <thead>\n",
       "    <tr style=\"text-align: right;\">\n",
       "      <th></th>\n",
       "      <th>user_id</th>\n",
       "      <th>evisit_substudy</th>\n",
       "      <th>activity_assignment_id</th>\n",
       "      <th>started_at</th>\n",
       "      <th>completed_at</th>\n",
       "      <th>redcap_transfer</th>\n",
       "      <th>hbp</th>\n",
       "      <th>high_chol</th>\n",
       "      <th>diabetes</th>\n",
       "      <th>blockages_in_your_coronary</th>\n",
       "      <th>...</th>\n",
       "      <th>congenital_kind1</th>\n",
       "      <th>congenital_kind2</th>\n",
       "      <th>congenital_kind3</th>\n",
       "      <th>congenital_kind4</th>\n",
       "      <th>congenital_kind5</th>\n",
       "      <th>congenital_kind6</th>\n",
       "      <th>congenital_kind7</th>\n",
       "      <th>congenital_kind8</th>\n",
       "      <th>congenital_kind9</th>\n",
       "      <th>congenital_kind10</th>\n",
       "    </tr>\n",
       "  </thead>\n",
       "  <tbody>\n",
       "    <tr>\n",
       "      <th>0</th>\n",
       "      <td>12</td>\n",
       "      <td>1.0</td>\n",
       "      <td>327</td>\n",
       "      <td>11MAR13:21:41:42</td>\n",
       "      <td>11MAR13:21:41:42</td>\n",
       "      <td>1</td>\n",
       "      <td>2.0</td>\n",
       "      <td>2.0</td>\n",
       "      <td>2.0</td>\n",
       "      <td>2.0</td>\n",
       "      <td>...</td>\n",
       "      <td>NaN</td>\n",
       "      <td>NaN</td>\n",
       "      <td>NaN</td>\n",
       "      <td>NaN</td>\n",
       "      <td>NaN</td>\n",
       "      <td>NaN</td>\n",
       "      <td>NaN</td>\n",
       "      <td>NaN</td>\n",
       "      <td>NaN</td>\n",
       "      <td>NaN</td>\n",
       "    </tr>\n",
       "    <tr>\n",
       "      <th>1</th>\n",
       "      <td>14</td>\n",
       "      <td>1.0</td>\n",
       "      <td>383</td>\n",
       "      <td>09APR13:07:16:26</td>\n",
       "      <td>09APR13:07:16:26</td>\n",
       "      <td>1</td>\n",
       "      <td>2.0</td>\n",
       "      <td>2.0</td>\n",
       "      <td>2.0</td>\n",
       "      <td>2.0</td>\n",
       "      <td>...</td>\n",
       "      <td>NaN</td>\n",
       "      <td>NaN</td>\n",
       "      <td>NaN</td>\n",
       "      <td>NaN</td>\n",
       "      <td>NaN</td>\n",
       "      <td>NaN</td>\n",
       "      <td>NaN</td>\n",
       "      <td>NaN</td>\n",
       "      <td>NaN</td>\n",
       "      <td>NaN</td>\n",
       "    </tr>\n",
       "    <tr>\n",
       "      <th>2</th>\n",
       "      <td>15</td>\n",
       "      <td>4.0</td>\n",
       "      <td>4225052</td>\n",
       "      <td>17FEB16:20:31:45</td>\n",
       "      <td>17FEB16:20:32:31</td>\n",
       "      <td>0</td>\n",
       "      <td>2.0</td>\n",
       "      <td>2.0</td>\n",
       "      <td>2.0</td>\n",
       "      <td>2.0</td>\n",
       "      <td>...</td>\n",
       "      <td>NaN</td>\n",
       "      <td>NaN</td>\n",
       "      <td>NaN</td>\n",
       "      <td>NaN</td>\n",
       "      <td>NaN</td>\n",
       "      <td>NaN</td>\n",
       "      <td>NaN</td>\n",
       "      <td>NaN</td>\n",
       "      <td>NaN</td>\n",
       "      <td>NaN</td>\n",
       "    </tr>\n",
       "    <tr>\n",
       "      <th>3</th>\n",
       "      <td>16</td>\n",
       "      <td>1.0</td>\n",
       "      <td>439</td>\n",
       "      <td>10MAR13:08:01:49</td>\n",
       "      <td>10MAR13:08:01:49</td>\n",
       "      <td>1</td>\n",
       "      <td>2.0</td>\n",
       "      <td>1.0</td>\n",
       "      <td>2.0</td>\n",
       "      <td>2.0</td>\n",
       "      <td>...</td>\n",
       "      <td>NaN</td>\n",
       "      <td>NaN</td>\n",
       "      <td>NaN</td>\n",
       "      <td>NaN</td>\n",
       "      <td>NaN</td>\n",
       "      <td>NaN</td>\n",
       "      <td>NaN</td>\n",
       "      <td>NaN</td>\n",
       "      <td>NaN</td>\n",
       "      <td>NaN</td>\n",
       "    </tr>\n",
       "    <tr>\n",
       "      <th>4</th>\n",
       "      <td>17</td>\n",
       "      <td>1.0</td>\n",
       "      <td>469</td>\n",
       "      <td>19MAR13:17:10:53</td>\n",
       "      <td>19MAR13:17:10:53</td>\n",
       "      <td>1</td>\n",
       "      <td>2.0</td>\n",
       "      <td>2.0</td>\n",
       "      <td>2.0</td>\n",
       "      <td>2.0</td>\n",
       "      <td>...</td>\n",
       "      <td>NaN</td>\n",
       "      <td>NaN</td>\n",
       "      <td>NaN</td>\n",
       "      <td>NaN</td>\n",
       "      <td>NaN</td>\n",
       "      <td>NaN</td>\n",
       "      <td>NaN</td>\n",
       "      <td>NaN</td>\n",
       "      <td>NaN</td>\n",
       "      <td>NaN</td>\n",
       "    </tr>\n",
       "  </tbody>\n",
       "</table>\n",
       "<p>5 rows × 52 columns</p>\n",
       "</div>"
      ],
      "text/plain": [
       "   user_id  evisit_substudy  activity_assignment_id        started_at  \\\n",
       "0       12              1.0                     327  11MAR13:21:41:42   \n",
       "1       14              1.0                     383  09APR13:07:16:26   \n",
       "2       15              4.0                 4225052  17FEB16:20:31:45   \n",
       "3       16              1.0                     439  10MAR13:08:01:49   \n",
       "4       17              1.0                     469  19MAR13:17:10:53   \n",
       "\n",
       "       completed_at  redcap_transfer  hbp  high_chol  diabetes  \\\n",
       "0  11MAR13:21:41:42                1  2.0        2.0       2.0   \n",
       "1  09APR13:07:16:26                1  2.0        2.0       2.0   \n",
       "2  17FEB16:20:32:31                0  2.0        2.0       2.0   \n",
       "3  10MAR13:08:01:49                1  2.0        1.0       2.0   \n",
       "4  19MAR13:17:10:53                1  2.0        2.0       2.0   \n",
       "\n",
       "   blockages_in_your_coronary        ...          congenital_kind1  \\\n",
       "0                         2.0        ...                       NaN   \n",
       "1                         2.0        ...                       NaN   \n",
       "2                         2.0        ...                       NaN   \n",
       "3                         2.0        ...                       NaN   \n",
       "4                         2.0        ...                       NaN   \n",
       "\n",
       "   congenital_kind2  congenital_kind3  congenital_kind4  congenital_kind5  \\\n",
       "0               NaN               NaN               NaN               NaN   \n",
       "1               NaN               NaN               NaN               NaN   \n",
       "2               NaN               NaN               NaN               NaN   \n",
       "3               NaN               NaN               NaN               NaN   \n",
       "4               NaN               NaN               NaN               NaN   \n",
       "\n",
       "   congenital_kind6 congenital_kind7 congenital_kind8  congenital_kind9  \\\n",
       "0               NaN              NaN              NaN               NaN   \n",
       "1               NaN              NaN              NaN               NaN   \n",
       "2               NaN              NaN              NaN               NaN   \n",
       "3               NaN              NaN              NaN               NaN   \n",
       "4               NaN              NaN              NaN               NaN   \n",
       "\n",
       "   congenital_kind10  \n",
       "0                NaN  \n",
       "1                NaN  \n",
       "2                NaN  \n",
       "3                NaN  \n",
       "4                NaN  \n",
       "\n",
       "[5 rows x 52 columns]"
      ]
     },
     "execution_count": 133,
     "metadata": {},
     "output_type": "execute_result"
    }
   ],
   "source": [
    "med_cond.head()"
   ]
  },
  {
   "cell_type": "code",
   "execution_count": 134,
   "metadata": {
    "collapsed": false
   },
   "outputs": [
    {
     "data": {
      "text/plain": [
       "(38840, 52)"
      ]
     },
     "execution_count": 134,
     "metadata": {},
     "output_type": "execute_result"
    }
   ],
   "source": [
    "med_cond.shape"
   ]
  },
  {
   "cell_type": "code",
   "execution_count": 135,
   "metadata": {
    "collapsed": false
   },
   "outputs": [
    {
     "data": {
      "text/plain": [
       "Index([u'user_id', u'evisit_substudy', u'activity_assignment_id',\n",
       "       u'started_at', u'completed_at', u'redcap_transfer', u'hbp',\n",
       "       u'high_chol', u'diabetes', u'blockages_in_your_coronary',\n",
       "       u'heart_attack', u'pvd', u'clots', u'chf', u'stroke', u'enlarged',\n",
       "       u'afib', u'arrhythmia', u'murmur', u'valve', u'dental', u'congenital',\n",
       "       u'congenital_kind', u'congenital_other', u'congenital_surg',\n",
       "       u'pulm_hyper', u'aorta', u'other_aorta', u'marfan', u'ehlers',\n",
       "       u'sleep_apnea', u'copd', u'asthma', u'cardiac', u'implant',\n",
       "       u'implant_pace', u'implant_icd', u'implant_other', u'afib1', u'afib2',\n",
       "       u'arrhythmia1', u'arrhythmia2', u'congenital_kind1',\n",
       "       u'congenital_kind2', u'congenital_kind3', u'congenital_kind4',\n",
       "       u'congenital_kind5', u'congenital_kind6', u'congenital_kind7',\n",
       "       u'congenital_kind8', u'congenital_kind9', u'congenital_kind10'],\n",
       "      dtype='object')"
      ]
     },
     "execution_count": 135,
     "metadata": {},
     "output_type": "execute_result"
    }
   ],
   "source": [
    "med_cond.columns"
   ]
  },
  {
   "cell_type": "code",
   "execution_count": 136,
   "metadata": {
    "collapsed": true
   },
   "outputs": [],
   "source": [
    "mini_med_cond = med_cond[['user_id', 'hbp', 'high_chol', 'diabetes', 'blockages_in_your_coronary', 'heart_attack', 'pvd', 'clots', 'chf', 'stroke', 'enlarged', 'afib', 'arrhythmia', 'murmur', 'valve', 'congenital' ,'pulm_hyper', 'aorta', 'other_aorta', 'sleep_apnea', 'copd', 'asthma', 'arrhythmia1', 'arrhythmia2']]"
   ]
  },
  {
   "cell_type": "code",
   "execution_count": 139,
   "metadata": {
    "collapsed": false
   },
   "outputs": [
    {
     "data": {
      "text/html": [
       "<div>\n",
       "<table border=\"1\" class=\"dataframe\">\n",
       "  <thead>\n",
       "    <tr style=\"text-align: right;\">\n",
       "      <th></th>\n",
       "      <th>user_id</th>\n",
       "      <th>hbp</th>\n",
       "      <th>high_chol</th>\n",
       "      <th>diabetes</th>\n",
       "      <th>blockages_in_your_coronary</th>\n",
       "      <th>heart_attack</th>\n",
       "      <th>pvd</th>\n",
       "      <th>clots</th>\n",
       "      <th>chf</th>\n",
       "      <th>stroke</th>\n",
       "      <th>...</th>\n",
       "      <th>valve</th>\n",
       "      <th>congenital</th>\n",
       "      <th>pulm_hyper</th>\n",
       "      <th>aorta</th>\n",
       "      <th>other_aorta</th>\n",
       "      <th>sleep_apnea</th>\n",
       "      <th>copd</th>\n",
       "      <th>asthma</th>\n",
       "      <th>arrhythmia1</th>\n",
       "      <th>arrhythmia2</th>\n",
       "    </tr>\n",
       "  </thead>\n",
       "  <tbody>\n",
       "    <tr>\n",
       "      <th>0</th>\n",
       "      <td>12</td>\n",
       "      <td>2.0</td>\n",
       "      <td>2.0</td>\n",
       "      <td>2.0</td>\n",
       "      <td>2.0</td>\n",
       "      <td>2.0</td>\n",
       "      <td>2.0</td>\n",
       "      <td>2.0</td>\n",
       "      <td>2.0</td>\n",
       "      <td>2.0</td>\n",
       "      <td>...</td>\n",
       "      <td>NaN</td>\n",
       "      <td>2.0</td>\n",
       "      <td>2.0</td>\n",
       "      <td>1.0</td>\n",
       "      <td>NaN</td>\n",
       "      <td>2.0</td>\n",
       "      <td>2.0</td>\n",
       "      <td>1.0</td>\n",
       "      <td>2.0</td>\n",
       "      <td>NaN</td>\n",
       "    </tr>\n",
       "    <tr>\n",
       "      <th>1</th>\n",
       "      <td>14</td>\n",
       "      <td>2.0</td>\n",
       "      <td>2.0</td>\n",
       "      <td>2.0</td>\n",
       "      <td>2.0</td>\n",
       "      <td>2.0</td>\n",
       "      <td>2.0</td>\n",
       "      <td>2.0</td>\n",
       "      <td>2.0</td>\n",
       "      <td>2.0</td>\n",
       "      <td>...</td>\n",
       "      <td>NaN</td>\n",
       "      <td>2.0</td>\n",
       "      <td>2.0</td>\n",
       "      <td>1.0</td>\n",
       "      <td>NaN</td>\n",
       "      <td>2.0</td>\n",
       "      <td>2.0</td>\n",
       "      <td>2.0</td>\n",
       "      <td>2.0</td>\n",
       "      <td>NaN</td>\n",
       "    </tr>\n",
       "    <tr>\n",
       "      <th>2</th>\n",
       "      <td>15</td>\n",
       "      <td>2.0</td>\n",
       "      <td>2.0</td>\n",
       "      <td>2.0</td>\n",
       "      <td>2.0</td>\n",
       "      <td>2.0</td>\n",
       "      <td>2.0</td>\n",
       "      <td>2.0</td>\n",
       "      <td>2.0</td>\n",
       "      <td>2.0</td>\n",
       "      <td>...</td>\n",
       "      <td>NaN</td>\n",
       "      <td>2.0</td>\n",
       "      <td>2.0</td>\n",
       "      <td>1.0</td>\n",
       "      <td>NaN</td>\n",
       "      <td>2.0</td>\n",
       "      <td>2.0</td>\n",
       "      <td>2.0</td>\n",
       "      <td>2.0</td>\n",
       "      <td>NaN</td>\n",
       "    </tr>\n",
       "    <tr>\n",
       "      <th>3</th>\n",
       "      <td>16</td>\n",
       "      <td>2.0</td>\n",
       "      <td>1.0</td>\n",
       "      <td>2.0</td>\n",
       "      <td>2.0</td>\n",
       "      <td>2.0</td>\n",
       "      <td>2.0</td>\n",
       "      <td>2.0</td>\n",
       "      <td>2.0</td>\n",
       "      <td>2.0</td>\n",
       "      <td>...</td>\n",
       "      <td>NaN</td>\n",
       "      <td>2.0</td>\n",
       "      <td>2.0</td>\n",
       "      <td>1.0</td>\n",
       "      <td>NaN</td>\n",
       "      <td>2.0</td>\n",
       "      <td>2.0</td>\n",
       "      <td>2.0</td>\n",
       "      <td>2.0</td>\n",
       "      <td>NaN</td>\n",
       "    </tr>\n",
       "    <tr>\n",
       "      <th>4</th>\n",
       "      <td>17</td>\n",
       "      <td>2.0</td>\n",
       "      <td>2.0</td>\n",
       "      <td>2.0</td>\n",
       "      <td>2.0</td>\n",
       "      <td>2.0</td>\n",
       "      <td>2.0</td>\n",
       "      <td>2.0</td>\n",
       "      <td>2.0</td>\n",
       "      <td>2.0</td>\n",
       "      <td>...</td>\n",
       "      <td>NaN</td>\n",
       "      <td>2.0</td>\n",
       "      <td>2.0</td>\n",
       "      <td>1.0</td>\n",
       "      <td>NaN</td>\n",
       "      <td>2.0</td>\n",
       "      <td>2.0</td>\n",
       "      <td>2.0</td>\n",
       "      <td>2.0</td>\n",
       "      <td>NaN</td>\n",
       "    </tr>\n",
       "  </tbody>\n",
       "</table>\n",
       "<p>5 rows × 24 columns</p>\n",
       "</div>"
      ],
      "text/plain": [
       "   user_id  hbp  high_chol  diabetes  blockages_in_your_coronary  \\\n",
       "0       12  2.0        2.0       2.0                         2.0   \n",
       "1       14  2.0        2.0       2.0                         2.0   \n",
       "2       15  2.0        2.0       2.0                         2.0   \n",
       "3       16  2.0        1.0       2.0                         2.0   \n",
       "4       17  2.0        2.0       2.0                         2.0   \n",
       "\n",
       "   heart_attack  pvd  clots  chf  stroke     ...       valve congenital  \\\n",
       "0           2.0  2.0    2.0  2.0     2.0     ...         NaN        2.0   \n",
       "1           2.0  2.0    2.0  2.0     2.0     ...         NaN        2.0   \n",
       "2           2.0  2.0    2.0  2.0     2.0     ...         NaN        2.0   \n",
       "3           2.0  2.0    2.0  2.0     2.0     ...         NaN        2.0   \n",
       "4           2.0  2.0    2.0  2.0     2.0     ...         NaN        2.0   \n",
       "\n",
       "  pulm_hyper  aorta  other_aorta  sleep_apnea  copd  asthma arrhythmia1  \\\n",
       "0        2.0    1.0          NaN          2.0   2.0     1.0         2.0   \n",
       "1        2.0    1.0          NaN          2.0   2.0     2.0         2.0   \n",
       "2        2.0    1.0          NaN          2.0   2.0     2.0         2.0   \n",
       "3        2.0    1.0          NaN          2.0   2.0     2.0         2.0   \n",
       "4        2.0    1.0          NaN          2.0   2.0     2.0         2.0   \n",
       "\n",
       "   arrhythmia2  \n",
       "0          NaN  \n",
       "1          NaN  \n",
       "2          NaN  \n",
       "3          NaN  \n",
       "4          NaN  \n",
       "\n",
       "[5 rows x 24 columns]"
      ]
     },
     "execution_count": 139,
     "metadata": {},
     "output_type": "execute_result"
    }
   ],
   "source": [
    "mini_med_cond.head()"
   ]
  },
  {
   "cell_type": "code",
   "execution_count": 140,
   "metadata": {
    "collapsed": false
   },
   "outputs": [
    {
     "data": {
      "text/html": [
       "<div>\n",
       "<table border=\"1\" class=\"dataframe\">\n",
       "  <thead>\n",
       "    <tr style=\"text-align: right;\">\n",
       "      <th>heart_attack</th>\n",
       "      <th>1.0</th>\n",
       "      <th>2.0</th>\n",
       "      <th>3.0</th>\n",
       "    </tr>\n",
       "    <tr>\n",
       "      <th>blockages_in_your_coronary</th>\n",
       "      <th></th>\n",
       "      <th></th>\n",
       "      <th></th>\n",
       "    </tr>\n",
       "  </thead>\n",
       "  <tbody>\n",
       "    <tr>\n",
       "      <th>1.0</th>\n",
       "      <td>1666</td>\n",
       "      <td>1887</td>\n",
       "      <td>58</td>\n",
       "    </tr>\n",
       "    <tr>\n",
       "      <th>2.0</th>\n",
       "      <td>372</td>\n",
       "      <td>34158</td>\n",
       "      <td>63</td>\n",
       "    </tr>\n",
       "    <tr>\n",
       "      <th>3.0</th>\n",
       "      <td>27</td>\n",
       "      <td>431</td>\n",
       "      <td>94</td>\n",
       "    </tr>\n",
       "  </tbody>\n",
       "</table>\n",
       "</div>"
      ],
      "text/plain": [
       "heart_attack                 1.0    2.0  3.0\n",
       "blockages_in_your_coronary                  \n",
       "1.0                         1666   1887   58\n",
       "2.0                          372  34158   63\n",
       "3.0                           27    431   94"
      ]
     },
     "execution_count": 140,
     "metadata": {},
     "output_type": "execute_result"
    }
   ],
   "source": [
    "pd.crosstab(mini_med_cond.blockages_in_your_coronary, mini_med_cond.heart_attack)"
   ]
  },
  {
   "cell_type": "code",
   "execution_count": 155,
   "metadata": {
    "collapsed": false
   },
   "outputs": [
    {
     "name": "stderr",
     "output_type": "stream",
     "text": [
      "/Users/sf321092/anaconda/lib/python2.7/site-packages/ipykernel/__main__.py:14: SettingWithCopyWarning: \n",
      "A value is trying to be set on a copy of a slice from a DataFrame.\n",
      "Try using .loc[row_indexer,col_indexer] = value instead\n",
      "\n",
      "See the caveats in the documentation: http://pandas.pydata.org/pandas-docs/stable/indexing.html#indexing-view-versus-copy\n"
     ]
    }
   ],
   "source": [
    "# now try to create a column that combines \"heart attack\" or \"blockages in your coronary\"\n",
    "def f(row):\n",
    "    if row['heart_attack']==1 or row['blockages_in_your_coronary']==1:\n",
    "        return int(1)\n",
    "    if row['heart_attack']==2:\n",
    "        return int(2)\n",
    "    if row['heart_attack']==3:\n",
    "        return int(3)\n",
    "    if row['blockages_in_your_coronary']==2:\n",
    "        return int(2)\n",
    "    if row['blockages_in_your_coronary']==3:\n",
    "        return int(3)\n",
    "\n",
    "mini_med_cond['CAD']=mini_med_cond.apply(lambda row: f(row), axis=1)"
   ]
  },
  {
   "cell_type": "code",
   "execution_count": 156,
   "metadata": {
    "collapsed": false
   },
   "outputs": [
    {
     "data": {
      "text/html": [
       "<div>\n",
       "<table border=\"1\" class=\"dataframe\">\n",
       "  <thead>\n",
       "    <tr style=\"text-align: right;\">\n",
       "      <th></th>\n",
       "      <th>user_id</th>\n",
       "      <th>hbp</th>\n",
       "      <th>high_chol</th>\n",
       "      <th>diabetes</th>\n",
       "      <th>blockages_in_your_coronary</th>\n",
       "      <th>heart_attack</th>\n",
       "      <th>pvd</th>\n",
       "      <th>clots</th>\n",
       "      <th>chf</th>\n",
       "      <th>stroke</th>\n",
       "      <th>...</th>\n",
       "      <th>congenital</th>\n",
       "      <th>pulm_hyper</th>\n",
       "      <th>aorta</th>\n",
       "      <th>other_aorta</th>\n",
       "      <th>sleep_apnea</th>\n",
       "      <th>copd</th>\n",
       "      <th>asthma</th>\n",
       "      <th>arrhythmia1</th>\n",
       "      <th>arrhythmia2</th>\n",
       "      <th>CAD</th>\n",
       "    </tr>\n",
       "  </thead>\n",
       "  <tbody>\n",
       "    <tr>\n",
       "      <th>0</th>\n",
       "      <td>12</td>\n",
       "      <td>2.0</td>\n",
       "      <td>2.0</td>\n",
       "      <td>2.0</td>\n",
       "      <td>2.0</td>\n",
       "      <td>2.0</td>\n",
       "      <td>2.0</td>\n",
       "      <td>2.0</td>\n",
       "      <td>2.0</td>\n",
       "      <td>2.0</td>\n",
       "      <td>...</td>\n",
       "      <td>2.0</td>\n",
       "      <td>2.0</td>\n",
       "      <td>1.0</td>\n",
       "      <td>NaN</td>\n",
       "      <td>2.0</td>\n",
       "      <td>2.0</td>\n",
       "      <td>1.0</td>\n",
       "      <td>2.0</td>\n",
       "      <td>NaN</td>\n",
       "      <td>2.0</td>\n",
       "    </tr>\n",
       "    <tr>\n",
       "      <th>1</th>\n",
       "      <td>14</td>\n",
       "      <td>2.0</td>\n",
       "      <td>2.0</td>\n",
       "      <td>2.0</td>\n",
       "      <td>2.0</td>\n",
       "      <td>2.0</td>\n",
       "      <td>2.0</td>\n",
       "      <td>2.0</td>\n",
       "      <td>2.0</td>\n",
       "      <td>2.0</td>\n",
       "      <td>...</td>\n",
       "      <td>2.0</td>\n",
       "      <td>2.0</td>\n",
       "      <td>1.0</td>\n",
       "      <td>NaN</td>\n",
       "      <td>2.0</td>\n",
       "      <td>2.0</td>\n",
       "      <td>2.0</td>\n",
       "      <td>2.0</td>\n",
       "      <td>NaN</td>\n",
       "      <td>2.0</td>\n",
       "    </tr>\n",
       "    <tr>\n",
       "      <th>2</th>\n",
       "      <td>15</td>\n",
       "      <td>2.0</td>\n",
       "      <td>2.0</td>\n",
       "      <td>2.0</td>\n",
       "      <td>2.0</td>\n",
       "      <td>2.0</td>\n",
       "      <td>2.0</td>\n",
       "      <td>2.0</td>\n",
       "      <td>2.0</td>\n",
       "      <td>2.0</td>\n",
       "      <td>...</td>\n",
       "      <td>2.0</td>\n",
       "      <td>2.0</td>\n",
       "      <td>1.0</td>\n",
       "      <td>NaN</td>\n",
       "      <td>2.0</td>\n",
       "      <td>2.0</td>\n",
       "      <td>2.0</td>\n",
       "      <td>2.0</td>\n",
       "      <td>NaN</td>\n",
       "      <td>2.0</td>\n",
       "    </tr>\n",
       "    <tr>\n",
       "      <th>3</th>\n",
       "      <td>16</td>\n",
       "      <td>2.0</td>\n",
       "      <td>1.0</td>\n",
       "      <td>2.0</td>\n",
       "      <td>2.0</td>\n",
       "      <td>2.0</td>\n",
       "      <td>2.0</td>\n",
       "      <td>2.0</td>\n",
       "      <td>2.0</td>\n",
       "      <td>2.0</td>\n",
       "      <td>...</td>\n",
       "      <td>2.0</td>\n",
       "      <td>2.0</td>\n",
       "      <td>1.0</td>\n",
       "      <td>NaN</td>\n",
       "      <td>2.0</td>\n",
       "      <td>2.0</td>\n",
       "      <td>2.0</td>\n",
       "      <td>2.0</td>\n",
       "      <td>NaN</td>\n",
       "      <td>2.0</td>\n",
       "    </tr>\n",
       "    <tr>\n",
       "      <th>4</th>\n",
       "      <td>17</td>\n",
       "      <td>2.0</td>\n",
       "      <td>2.0</td>\n",
       "      <td>2.0</td>\n",
       "      <td>2.0</td>\n",
       "      <td>2.0</td>\n",
       "      <td>2.0</td>\n",
       "      <td>2.0</td>\n",
       "      <td>2.0</td>\n",
       "      <td>2.0</td>\n",
       "      <td>...</td>\n",
       "      <td>2.0</td>\n",
       "      <td>2.0</td>\n",
       "      <td>1.0</td>\n",
       "      <td>NaN</td>\n",
       "      <td>2.0</td>\n",
       "      <td>2.0</td>\n",
       "      <td>2.0</td>\n",
       "      <td>2.0</td>\n",
       "      <td>NaN</td>\n",
       "      <td>2.0</td>\n",
       "    </tr>\n",
       "  </tbody>\n",
       "</table>\n",
       "<p>5 rows × 25 columns</p>\n",
       "</div>"
      ],
      "text/plain": [
       "   user_id  hbp  high_chol  diabetes  blockages_in_your_coronary  \\\n",
       "0       12  2.0        2.0       2.0                         2.0   \n",
       "1       14  2.0        2.0       2.0                         2.0   \n",
       "2       15  2.0        2.0       2.0                         2.0   \n",
       "3       16  2.0        1.0       2.0                         2.0   \n",
       "4       17  2.0        2.0       2.0                         2.0   \n",
       "\n",
       "   heart_attack  pvd  clots  chf  stroke ...   congenital pulm_hyper aorta  \\\n",
       "0           2.0  2.0    2.0  2.0     2.0 ...          2.0        2.0   1.0   \n",
       "1           2.0  2.0    2.0  2.0     2.0 ...          2.0        2.0   1.0   \n",
       "2           2.0  2.0    2.0  2.0     2.0 ...          2.0        2.0   1.0   \n",
       "3           2.0  2.0    2.0  2.0     2.0 ...          2.0        2.0   1.0   \n",
       "4           2.0  2.0    2.0  2.0     2.0 ...          2.0        2.0   1.0   \n",
       "\n",
       "   other_aorta  sleep_apnea  copd  asthma  arrhythmia1 arrhythmia2  CAD  \n",
       "0          NaN          2.0   2.0     1.0          2.0         NaN  2.0  \n",
       "1          NaN          2.0   2.0     2.0          2.0         NaN  2.0  \n",
       "2          NaN          2.0   2.0     2.0          2.0         NaN  2.0  \n",
       "3          NaN          2.0   2.0     2.0          2.0         NaN  2.0  \n",
       "4          NaN          2.0   2.0     2.0          2.0         NaN  2.0  \n",
       "\n",
       "[5 rows x 25 columns]"
      ]
     },
     "execution_count": 156,
     "metadata": {},
     "output_type": "execute_result"
    }
   ],
   "source": [
    "mini_med_cond.head()"
   ]
  },
  {
   "cell_type": "code",
   "execution_count": 157,
   "metadata": {
    "collapsed": false
   },
   "outputs": [
    {
     "data": {
      "text/html": [
       "<div>\n",
       "<table border=\"1\" class=\"dataframe\">\n",
       "  <thead>\n",
       "    <tr style=\"text-align: right;\">\n",
       "      <th>heart_attack</th>\n",
       "      <th>1.0</th>\n",
       "      <th>2.0</th>\n",
       "      <th>3.0</th>\n",
       "    </tr>\n",
       "    <tr>\n",
       "      <th>CAD</th>\n",
       "      <th></th>\n",
       "      <th></th>\n",
       "      <th></th>\n",
       "    </tr>\n",
       "  </thead>\n",
       "  <tbody>\n",
       "    <tr>\n",
       "      <th>1.0</th>\n",
       "      <td>2065</td>\n",
       "      <td>1887</td>\n",
       "      <td>58</td>\n",
       "    </tr>\n",
       "    <tr>\n",
       "      <th>2.0</th>\n",
       "      <td>0</td>\n",
       "      <td>34594</td>\n",
       "      <td>0</td>\n",
       "    </tr>\n",
       "    <tr>\n",
       "      <th>3.0</th>\n",
       "      <td>0</td>\n",
       "      <td>0</td>\n",
       "      <td>157</td>\n",
       "    </tr>\n",
       "  </tbody>\n",
       "</table>\n",
       "</div>"
      ],
      "text/plain": [
       "heart_attack   1.0    2.0  3.0\n",
       "CAD                           \n",
       "1.0           2065   1887   58\n",
       "2.0              0  34594    0\n",
       "3.0              0      0  157"
      ]
     },
     "execution_count": 157,
     "metadata": {},
     "output_type": "execute_result"
    }
   ],
   "source": [
    "pd.crosstab(mini_med_cond.CAD, mini_med_cond.heart_attack)"
   ]
  },
  {
   "cell_type": "code",
   "execution_count": 158,
   "metadata": {
    "collapsed": false
   },
   "outputs": [
    {
     "data": {
      "text/html": [
       "<div>\n",
       "<table border=\"1\" class=\"dataframe\">\n",
       "  <thead>\n",
       "    <tr style=\"text-align: right;\">\n",
       "      <th>blockages_in_your_coronary</th>\n",
       "      <th>1.0</th>\n",
       "      <th>2.0</th>\n",
       "      <th>3.0</th>\n",
       "    </tr>\n",
       "    <tr>\n",
       "      <th>CAD</th>\n",
       "      <th></th>\n",
       "      <th></th>\n",
       "      <th></th>\n",
       "    </tr>\n",
       "  </thead>\n",
       "  <tbody>\n",
       "    <tr>\n",
       "      <th>1.0</th>\n",
       "      <td>3613</td>\n",
       "      <td>372</td>\n",
       "      <td>27</td>\n",
       "    </tr>\n",
       "    <tr>\n",
       "      <th>2.0</th>\n",
       "      <td>0</td>\n",
       "      <td>34165</td>\n",
       "      <td>431</td>\n",
       "    </tr>\n",
       "    <tr>\n",
       "      <th>3.0</th>\n",
       "      <td>0</td>\n",
       "      <td>63</td>\n",
       "      <td>94</td>\n",
       "    </tr>\n",
       "  </tbody>\n",
       "</table>\n",
       "</div>"
      ],
      "text/plain": [
       "blockages_in_your_coronary   1.0    2.0  3.0\n",
       "CAD                                         \n",
       "1.0                         3613    372   27\n",
       "2.0                            0  34165  431\n",
       "3.0                            0     63   94"
      ]
     },
     "execution_count": 158,
     "metadata": {},
     "output_type": "execute_result"
    }
   ],
   "source": [
    "pd.crosstab(mini_med_cond.CAD, mini_med_cond.blockages_in_your_coronary)"
   ]
  },
  {
   "cell_type": "code",
   "execution_count": 159,
   "metadata": {
    "collapsed": false
   },
   "outputs": [
    {
     "data": {
      "text/html": [
       "<div>\n",
       "<table border=\"1\" class=\"dataframe\">\n",
       "  <thead>\n",
       "    <tr style=\"text-align: right;\">\n",
       "      <th>heart_attack</th>\n",
       "      <th>1.0</th>\n",
       "      <th>2.0</th>\n",
       "      <th>3.0</th>\n",
       "    </tr>\n",
       "    <tr>\n",
       "      <th>blockages_in_your_coronary</th>\n",
       "      <th></th>\n",
       "      <th></th>\n",
       "      <th></th>\n",
       "    </tr>\n",
       "  </thead>\n",
       "  <tbody>\n",
       "    <tr>\n",
       "      <th>1.0</th>\n",
       "      <td>1666</td>\n",
       "      <td>1887</td>\n",
       "      <td>58</td>\n",
       "    </tr>\n",
       "    <tr>\n",
       "      <th>2.0</th>\n",
       "      <td>372</td>\n",
       "      <td>34158</td>\n",
       "      <td>63</td>\n",
       "    </tr>\n",
       "    <tr>\n",
       "      <th>3.0</th>\n",
       "      <td>27</td>\n",
       "      <td>431</td>\n",
       "      <td>94</td>\n",
       "    </tr>\n",
       "  </tbody>\n",
       "</table>\n",
       "</div>"
      ],
      "text/plain": [
       "heart_attack                 1.0    2.0  3.0\n",
       "blockages_in_your_coronary                  \n",
       "1.0                         1666   1887   58\n",
       "2.0                          372  34158   63\n",
       "3.0                           27    431   94"
      ]
     },
     "execution_count": 159,
     "metadata": {},
     "output_type": "execute_result"
    }
   ],
   "source": [
    "pd.crosstab(mini_med_cond.blockages_in_your_coronary, mini_med_cond.heart_attack)"
   ]
  },
  {
   "cell_type": "code",
   "execution_count": 167,
   "metadata": {
    "collapsed": false
   },
   "outputs": [
    {
     "data": {
      "text/plain": [
       "2.0    34601\n",
       "1.0     4012\n",
       "3.0      157\n",
       "Name: CAD, dtype: int64"
      ]
     },
     "execution_count": 167,
     "metadata": {},
     "output_type": "execute_result"
    }
   ],
   "source": [
    "mini_med_cond.CAD.value_counts()"
   ]
  },
  {
   "cell_type": "code",
   "execution_count": 487,
   "metadata": {
    "collapsed": true
   },
   "outputs": [],
   "source": [
    "#now merge fit and mini_med_cond df's \n",
    "\n",
    "union_med = pd.merge(fit_clean, mini_med_cond, how='left', on='user_id', copy=True)"
   ]
  },
  {
   "cell_type": "code",
   "execution_count": 171,
   "metadata": {
    "collapsed": false
   },
   "outputs": [
    {
     "data": {
      "text/plain": [
       "1938"
      ]
     },
     "execution_count": 171,
     "metadata": {},
     "output_type": "execute_result"
    }
   ],
   "source": [
    "len(union_med.user_id.unique())\n",
    "#1938 people with both fitbit and med_condition surveys "
   ]
  },
  {
   "cell_type": "code",
   "execution_count": 175,
   "metadata": {
    "collapsed": false
   },
   "outputs": [
    {
     "data": {
      "text/plain": [
       "2.0    1644\n",
       "1.0     166\n",
       "3.0       8\n",
       "Name: CAD, dtype: int64"
      ]
     },
     "execution_count": 175,
     "metadata": {},
     "output_type": "execute_result"
    }
   ],
   "source": [
    "#There are 166 people with CAD and fitbits, 1644 withough CAD and with fitbits\n",
    "union_med.groupby('user_id').mean().CAD.value_counts()"
   ]
  },
  {
   "cell_type": "code",
   "execution_count": 488,
   "metadata": {
    "collapsed": false
   },
   "outputs": [],
   "source": [
    "X_cad = union_med[union_med.CAD==1]"
   ]
  },
  {
   "cell_type": "code",
   "execution_count": 489,
   "metadata": {
    "collapsed": false
   },
   "outputs": [],
   "source": [
    "#create control group, then randomly select 166 indices from it\n",
    "X_cad_control = union_med[union_med.CAD!=1]\n",
    "control_user_ids = X_cad_control.user_id.unique()"
   ]
  },
  {
   "cell_type": "code",
   "execution_count": 191,
   "metadata": {
    "collapsed": false
   },
   "outputs": [
    {
     "data": {
      "text/plain": [
       "1772"
      ]
     },
     "execution_count": 191,
     "metadata": {},
     "output_type": "execute_result"
    }
   ],
   "source": [
    "len(control_user_ids)"
   ]
  },
  {
   "cell_type": "code",
   "execution_count": 193,
   "metadata": {
    "collapsed": false
   },
   "outputs": [],
   "source": [
    "import random\n",
    "X_cad_control_user_list = random.sample(control_user_ids, 166)"
   ]
  },
  {
   "cell_type": "code",
   "execution_count": 197,
   "metadata": {
    "collapsed": false
   },
   "outputs": [],
   "source": [
    "X_cad_control = X_cad_control[X_cad_control['user_id'].isin(X_cad_control_user_list)]"
   ]
  },
  {
   "cell_type": "code",
   "execution_count": 198,
   "metadata": {
    "collapsed": false
   },
   "outputs": [
    {
     "data": {
      "text/plain": [
       "166"
      ]
     },
     "execution_count": 198,
     "metadata": {},
     "output_type": "execute_result"
    }
   ],
   "source": [
    "len(X_cad_control.user_id.unique())"
   ]
  },
  {
   "cell_type": "code",
   "execution_count": 477,
   "metadata": {
    "collapsed": true
   },
   "outputs": [],
   "source": [
    "#Great! So now my two Xvariables are X_cad and X_cad_control, which now just need to be merged, then I will pop off \n",
    "# the CAD column to be the Y varaible.\n",
    "X_cad_full = pd.concat([X_cad, X_cad_control]) \n"
   ]
  },
  {
   "cell_type": "code",
   "execution_count": 200,
   "metadata": {
    "collapsed": false
   },
   "outputs": [
    {
     "data": {
      "text/plain": [
       "332"
      ]
     },
     "execution_count": 200,
     "metadata": {},
     "output_type": "execute_result"
    }
   ],
   "source": [
    "len(X_cad_full.user_id.unique())"
   ]
  },
  {
   "cell_type": "code",
   "execution_count": 204,
   "metadata": {
    "collapsed": false,
    "scrolled": true
   },
   "outputs": [
    {
     "data": {
      "text/html": [
       "<div>\n",
       "<table border=\"1\" class=\"dataframe\">\n",
       "  <thead>\n",
       "    <tr style=\"text-align: right;\">\n",
       "      <th></th>\n",
       "      <th>user_id</th>\n",
       "      <th>date</th>\n",
       "      <th>steps</th>\n",
       "      <th>device_type</th>\n",
       "      <th>days_used</th>\n",
       "      <th>max_date</th>\n",
       "      <th>hbp</th>\n",
       "      <th>high_chol</th>\n",
       "      <th>diabetes</th>\n",
       "      <th>blockages_in_your_coronary</th>\n",
       "      <th>...</th>\n",
       "      <th>congenital</th>\n",
       "      <th>pulm_hyper</th>\n",
       "      <th>aorta</th>\n",
       "      <th>other_aorta</th>\n",
       "      <th>sleep_apnea</th>\n",
       "      <th>copd</th>\n",
       "      <th>asthma</th>\n",
       "      <th>arrhythmia1</th>\n",
       "      <th>arrhythmia2</th>\n",
       "      <th>CAD</th>\n",
       "    </tr>\n",
       "  </thead>\n",
       "  <tbody>\n",
       "    <tr>\n",
       "      <th>116516</th>\n",
       "      <td>74479</td>\n",
       "      <td>2016-07-09</td>\n",
       "      <td>6794.0</td>\n",
       "      <td>Charge HR</td>\n",
       "      <td>799</td>\n",
       "      <td>2016-08-01</td>\n",
       "      <td>2.0</td>\n",
       "      <td>1.0</td>\n",
       "      <td>2.0</td>\n",
       "      <td>2.0</td>\n",
       "      <td>...</td>\n",
       "      <td>2.0</td>\n",
       "      <td>2.0</td>\n",
       "      <td>1.0</td>\n",
       "      <td>NaN</td>\n",
       "      <td>3.0</td>\n",
       "      <td>2.0</td>\n",
       "      <td>2.0</td>\n",
       "      <td>2.0</td>\n",
       "      <td>NaN</td>\n",
       "      <td>2.0</td>\n",
       "    </tr>\n",
       "    <tr>\n",
       "      <th>116517</th>\n",
       "      <td>74479</td>\n",
       "      <td>2016-07-13</td>\n",
       "      <td>8171.0</td>\n",
       "      <td>Charge HR</td>\n",
       "      <td>799</td>\n",
       "      <td>2016-08-01</td>\n",
       "      <td>2.0</td>\n",
       "      <td>1.0</td>\n",
       "      <td>2.0</td>\n",
       "      <td>2.0</td>\n",
       "      <td>...</td>\n",
       "      <td>2.0</td>\n",
       "      <td>2.0</td>\n",
       "      <td>1.0</td>\n",
       "      <td>NaN</td>\n",
       "      <td>3.0</td>\n",
       "      <td>2.0</td>\n",
       "      <td>2.0</td>\n",
       "      <td>2.0</td>\n",
       "      <td>NaN</td>\n",
       "      <td>2.0</td>\n",
       "    </tr>\n",
       "    <tr>\n",
       "      <th>116518</th>\n",
       "      <td>74479</td>\n",
       "      <td>2016-07-17</td>\n",
       "      <td>9472.0</td>\n",
       "      <td>Charge HR</td>\n",
       "      <td>799</td>\n",
       "      <td>2016-08-01</td>\n",
       "      <td>2.0</td>\n",
       "      <td>1.0</td>\n",
       "      <td>2.0</td>\n",
       "      <td>2.0</td>\n",
       "      <td>...</td>\n",
       "      <td>2.0</td>\n",
       "      <td>2.0</td>\n",
       "      <td>1.0</td>\n",
       "      <td>NaN</td>\n",
       "      <td>3.0</td>\n",
       "      <td>2.0</td>\n",
       "      <td>2.0</td>\n",
       "      <td>2.0</td>\n",
       "      <td>NaN</td>\n",
       "      <td>2.0</td>\n",
       "    </tr>\n",
       "    <tr>\n",
       "      <th>116519</th>\n",
       "      <td>74479</td>\n",
       "      <td>2016-07-25</td>\n",
       "      <td>5471.0</td>\n",
       "      <td>Charge HR</td>\n",
       "      <td>799</td>\n",
       "      <td>2016-08-01</td>\n",
       "      <td>2.0</td>\n",
       "      <td>1.0</td>\n",
       "      <td>2.0</td>\n",
       "      <td>2.0</td>\n",
       "      <td>...</td>\n",
       "      <td>2.0</td>\n",
       "      <td>2.0</td>\n",
       "      <td>1.0</td>\n",
       "      <td>NaN</td>\n",
       "      <td>3.0</td>\n",
       "      <td>2.0</td>\n",
       "      <td>2.0</td>\n",
       "      <td>2.0</td>\n",
       "      <td>NaN</td>\n",
       "      <td>2.0</td>\n",
       "    </tr>\n",
       "    <tr>\n",
       "      <th>116520</th>\n",
       "      <td>74479</td>\n",
       "      <td>2016-07-29</td>\n",
       "      <td>4772.0</td>\n",
       "      <td>Charge HR</td>\n",
       "      <td>799</td>\n",
       "      <td>2016-08-01</td>\n",
       "      <td>2.0</td>\n",
       "      <td>1.0</td>\n",
       "      <td>2.0</td>\n",
       "      <td>2.0</td>\n",
       "      <td>...</td>\n",
       "      <td>2.0</td>\n",
       "      <td>2.0</td>\n",
       "      <td>1.0</td>\n",
       "      <td>NaN</td>\n",
       "      <td>3.0</td>\n",
       "      <td>2.0</td>\n",
       "      <td>2.0</td>\n",
       "      <td>2.0</td>\n",
       "      <td>NaN</td>\n",
       "      <td>2.0</td>\n",
       "    </tr>\n",
       "  </tbody>\n",
       "</table>\n",
       "<p>5 rows × 30 columns</p>\n",
       "</div>"
      ],
      "text/plain": [
       "        user_id       date   steps device_type  days_used   max_date  hbp  \\\n",
       "116516    74479 2016-07-09  6794.0   Charge HR        799 2016-08-01  2.0   \n",
       "116517    74479 2016-07-13  8171.0   Charge HR        799 2016-08-01  2.0   \n",
       "116518    74479 2016-07-17  9472.0   Charge HR        799 2016-08-01  2.0   \n",
       "116519    74479 2016-07-25  5471.0   Charge HR        799 2016-08-01  2.0   \n",
       "116520    74479 2016-07-29  4772.0   Charge HR        799 2016-08-01  2.0   \n",
       "\n",
       "        high_chol  diabetes  blockages_in_your_coronary ...   congenital  \\\n",
       "116516        1.0       2.0                         2.0 ...          2.0   \n",
       "116517        1.0       2.0                         2.0 ...          2.0   \n",
       "116518        1.0       2.0                         2.0 ...          2.0   \n",
       "116519        1.0       2.0                         2.0 ...          2.0   \n",
       "116520        1.0       2.0                         2.0 ...          2.0   \n",
       "\n",
       "        pulm_hyper  aorta  other_aorta  sleep_apnea  copd asthma arrhythmia1  \\\n",
       "116516         2.0    1.0          NaN          3.0   2.0    2.0         2.0   \n",
       "116517         2.0    1.0          NaN          3.0   2.0    2.0         2.0   \n",
       "116518         2.0    1.0          NaN          3.0   2.0    2.0         2.0   \n",
       "116519         2.0    1.0          NaN          3.0   2.0    2.0         2.0   \n",
       "116520         2.0    1.0          NaN          3.0   2.0    2.0         2.0   \n",
       "\n",
       "        arrhythmia2  CAD  \n",
       "116516          NaN  2.0  \n",
       "116517          NaN  2.0  \n",
       "116518          NaN  2.0  \n",
       "116519          NaN  2.0  \n",
       "116520          NaN  2.0  \n",
       "\n",
       "[5 rows x 30 columns]"
      ]
     },
     "execution_count": 204,
     "metadata": {},
     "output_type": "execute_result"
    }
   ],
   "source": [
    "X_cad_full.tail()"
   ]
  },
  {
   "cell_type": "code",
   "execution_count": null,
   "metadata": {
    "collapsed": true
   },
   "outputs": [],
   "source": [
    "#create response variable Y\n",
    "Y_labels = X_cad_full.groupby('user_id').mean()['CAD']"
   ]
  },
  {
   "cell_type": "code",
   "execution_count": 394,
   "metadata": {
    "collapsed": false
   },
   "outputs": [
    {
     "data": {
      "text/plain": [
       "1.0    166\n",
       "2.0    151\n",
       "3.0      2\n",
       "Name: CAD, dtype: int64"
      ]
     },
     "execution_count": 394,
     "metadata": {},
     "output_type": "execute_result"
    }
   ],
   "source": [
    "Y_labels.value_counts()\n",
    "#So it looks like there are 13 NaNs and 2 \"3\" values in the Y_labels, so I will turn both of these to \"2\""
   ]
  },
  {
   "cell_type": "code",
   "execution_count": 397,
   "metadata": {
    "collapsed": false
   },
   "outputs": [],
   "source": [
    "Y_labels.replace(to_replace=3, value=2, inplace=True)"
   ]
  },
  {
   "cell_type": "code",
   "execution_count": 398,
   "metadata": {
    "collapsed": false
   },
   "outputs": [
    {
     "data": {
      "text/plain": [
       "13"
      ]
     },
     "execution_count": 398,
     "metadata": {},
     "output_type": "execute_result"
    }
   ],
   "source": [
    "Y_labels.isnull().sum()"
   ]
  },
  {
   "cell_type": "code",
   "execution_count": 402,
   "metadata": {
    "collapsed": false
   },
   "outputs": [],
   "source": [
    "Y_labels.fillna(value=2, inplace=True)"
   ]
  },
  {
   "cell_type": "code",
   "execution_count": 405,
   "metadata": {
    "collapsed": true
   },
   "outputs": [],
   "source": [
    "Y_labels.replace(to_replace=2, value=0, inplace=True)"
   ]
  },
  {
   "cell_type": "code",
   "execution_count": 407,
   "metadata": {
    "collapsed": false
   },
   "outputs": [],
   "source": [
    "Y = Y_labels.values\n",
    "#THIS IS THE RESPONSE VARAIBLE TO USE IN THE RNN"
   ]
  },
  {
   "cell_type": "code",
   "execution_count": 409,
   "metadata": {
    "collapsed": false
   },
   "outputs": [],
   "source": [
    "# now need to restructure data to be one row per user, and 60 columns wide "
   ]
  },
  {
   "cell_type": "code",
   "execution_count": 426,
   "metadata": {
    "collapsed": false
   },
   "outputs": [],
   "source": [
    "#creating a df with repeating 0-59 to denote each person in df.pivot\n",
    "sixty=pd.DataFrame([np.tile(np.arange(0,60), 332)]).T"
   ]
  },
  {
   "cell_type": "code",
   "execution_count": 428,
   "metadata": {
    "collapsed": false
   },
   "outputs": [],
   "source": [
    "sixty.columns=['ind']"
   ]
  },
  {
   "cell_type": "code",
   "execution_count": 478,
   "metadata": {
    "collapsed": false
   },
   "outputs": [
    {
     "data": {
      "text/plain": [
       "(19920, 30)"
      ]
     },
     "execution_count": 478,
     "metadata": {},
     "output_type": "execute_result"
    }
   ],
   "source": [
    "#resetting index of X_cad_full and removing unneeded variable\n",
    "X_cad_full.reset_index(inplace=True)\n",
    "X_cad_full = X_cad_full.drop(['index'], axis=1)\n",
    "X_cad_full.shape"
   ]
  },
  {
   "cell_type": "code",
   "execution_count": 480,
   "metadata": {
    "collapsed": true
   },
   "outputs": [],
   "source": [
    "X_cad_model = X_cad_full.join(sixty)"
   ]
  },
  {
   "cell_type": "code",
   "execution_count": 481,
   "metadata": {
    "collapsed": false
   },
   "outputs": [],
   "source": [
    "X_cad_model2 = X_cad_model[['user_id', 'steps', 'ind']]"
   ]
  },
  {
   "cell_type": "code",
   "execution_count": null,
   "metadata": {
    "collapsed": true
   },
   "outputs": [],
   "source": []
  },
  {
   "cell_type": "code",
   "execution_count": 484,
   "metadata": {
    "collapsed": false
   },
   "outputs": [],
   "source": [
    "#pivoting df to create 1 row per user and 60 features wide (1 feature per daily step count)\n",
    "X_cad_model_arr = X_cad_model2.pivot(index='user_id', values='steps', columns='ind')"
   ]
  },
  {
   "cell_type": "code",
   "execution_count": 443,
   "metadata": {
    "collapsed": false
   },
   "outputs": [],
   "source": [
    "#resetting index and removing user_id variable\n",
    "X_cad_model_arr.reset_index(inplace=True)\n",
    "X_cad_model_arr.drop('user_id', axis=1, inplace=True)"
   ]
  },
  {
   "cell_type": "code",
   "execution_count": 445,
   "metadata": {
    "collapsed": false
   },
   "outputs": [
    {
     "data": {
      "text/plain": [
       "(332, 60)"
      ]
     },
     "execution_count": 445,
     "metadata": {},
     "output_type": "execute_result"
    }
   ],
   "source": [
    "#THIS IS THE X TO USE IN THE RNN\n",
    "X_cad_model_arr.shape"
   ]
  },
  {
   "cell_type": "code",
   "execution_count": 209,
   "metadata": {
    "collapsed": true
   },
   "outputs": [],
   "source": [
    "##NOW time to start trying to build the neural net!\n"
   ]
  },
  {
   "cell_type": "code",
   "execution_count": 469,
   "metadata": {
    "collapsed": false
   },
   "outputs": [],
   "source": [
    "from keras.datasets import imdb\n",
    "from keras.models import Sequential, Model\n",
    "from keras.layers import Dense, Input, Dropout\n",
    "from keras.layers import LSTM\n",
    "from keras.layers.embeddings import Embedding\n",
    "from keras.preprocessing import sequence"
   ]
  },
  {
   "cell_type": "code",
   "execution_count": 211,
   "metadata": {
    "collapsed": true
   },
   "outputs": [],
   "source": [
    "from sklearn.cross_validation import train_test_split"
   ]
  },
  {
   "cell_type": "code",
   "execution_count": 448,
   "metadata": {
    "collapsed": true
   },
   "outputs": [],
   "source": [
    "X_train, X_test, Y_train, Y_test = train_test_split(X_cad_model_arr, Y, test_size=0.2)"
   ]
  },
  {
   "cell_type": "code",
   "execution_count": 449,
   "metadata": {
    "collapsed": false
   },
   "outputs": [
    {
     "name": "stdout",
     "output_type": "stream",
     "text": [
      "(265, 60, 1) (67, 60, 1)\n"
     ]
    }
   ],
   "source": [
    "#now, last thing, we have to format the X_train/test vars as keras wants them for RNN\n",
    "x_train = X_train.values[:,:,None]\n",
    "x_test = X_test.values[:,:,None]\n",
    "print x_train.shape, x_test.shape"
   ]
  },
  {
   "cell_type": "code",
   "execution_count": 384,
   "metadata": {
    "collapsed": false
   },
   "outputs": [
    {
     "data": {
      "text/plain": [
       "(265,)"
      ]
     },
     "execution_count": 384,
     "metadata": {},
     "output_type": "execute_result"
    }
   ],
   "source": [
    "Y_train.shape"
   ]
  },
  {
   "cell_type": "code",
   "execution_count": 329,
   "metadata": {
    "collapsed": false
   },
   "outputs": [],
   "source": [
    "#try to build recurrent NN, LSTM\n",
    "\n",
    "hidden_neurons = 64\n",
    "\n",
    "model =  Sequential()\n",
    "model.add(LSTM(hidden_neurons, input_shape=(60,1)))\n",
    "model.add(Dense(1, activation='sigmoid'))\n",
    "model.compile(loss='binary_crossentropy', optimizer='adam', metrics=['accuracy'])"
   ]
  },
  {
   "cell_type": "code",
   "execution_count": 450,
   "metadata": {
    "collapsed": false
   },
   "outputs": [],
   "source": [
    "r_input = Input(shape=(60,1))\n",
    "lstm = LSTM(64)(r_input)\n",
    "pred = Dense(1, activation='sigmoid')(lstm)\n",
    "model = Model(input=r_input, output=pred)\n",
    "model.compile(loss='binary_crossentropy', optimizer='adam', metrics=['accuracy'])"
   ]
  },
  {
   "cell_type": "code",
   "execution_count": 383,
   "metadata": {
    "collapsed": false
   },
   "outputs": [],
   "source": [
    "#model code for LSTM, RNN using the Functional API, with multiple layers \n",
    "r_input = Input(shape=(60,1))\n",
    "lstm = LSTM(64, return_sequences=True)(r_input) #return_sequences=True outputs returns an output from this layer as shape (None, 60, 64) which allows for input to the next layer  \n",
    "#another layer, need return sequences\n",
    "lstm= LSTM(64)(lstm) #second layer (would add option return_sequences if intending to add another layer)\n",
    "pred = Dense(1, activation='sigmoid')(lstm)\n",
    "two_model = Model(input=r_input, output=pred)\n",
    "two_model.compile(loss='binary_crossentropy', optimizer='adam', metrics=['accuracy'])"
   ]
  },
  {
   "cell_type": "code",
   "execution_count": 451,
   "metadata": {
    "collapsed": false,
    "scrolled": false
   },
   "outputs": [
    {
     "name": "stdout",
     "output_type": "stream",
     "text": [
      "____________________________________________________________________________________________________\n",
      "Layer (type)                     Output Shape          Param #     Connected to                     \n",
      "====================================================================================================\n",
      "input_11 (InputLayer)            (None, 60, 1)         0                                            \n",
      "____________________________________________________________________________________________________\n",
      "lstm_25 (LSTM)                   (None, 64)            16896       input_11[0][0]                   \n",
      "____________________________________________________________________________________________________\n",
      "dense_11 (Dense)                 (None, 1)             65          lstm_25[0][0]                    \n",
      "====================================================================================================\n",
      "Total params: 16961\n",
      "____________________________________________________________________________________________________\n"
     ]
    }
   ],
   "source": [
    "model.summary()\n",
    "#note that the output shape of the Input Layer matches the shape of x_train after reformatting in cell above "
   ]
  },
  {
   "cell_type": "code",
   "execution_count": 379,
   "metadata": {
    "collapsed": false
   },
   "outputs": [
    {
     "name": "stdout",
     "output_type": "stream",
     "text": [
      "____________________________________________________________________________________________________\n",
      "Layer (type)                     Output Shape          Param #     Connected to                     \n",
      "====================================================================================================\n",
      "input_7 (InputLayer)             (None, 60, 1)         0                                            \n",
      "____________________________________________________________________________________________________\n",
      "lstm_17 (LSTM)                   (None, 60, 64)        16896       input_7[0][0]                    \n",
      "____________________________________________________________________________________________________\n",
      "lstm_18 (LSTM)                   (None, 64)            33024       lstm_17[0][0]                    \n",
      "____________________________________________________________________________________________________\n",
      "dense_8 (Dense)                  (None, 1)             65          lstm_18[0][0]                    \n",
      "====================================================================================================\n",
      "Total params: 49985\n",
      "____________________________________________________________________________________________________\n"
     ]
    }
   ],
   "source": [
    "two_model.summary()"
   ]
  },
  {
   "cell_type": "code",
   "execution_count": 458,
   "metadata": {
    "collapsed": false
   },
   "outputs": [
    {
     "name": "stdout",
     "output_type": "stream",
     "text": [
      "Epoch 1/3\n",
      "265/265 [==============================] - 0s - loss: 0.7247 - acc: 0.4830     \n",
      "Epoch 2/3\n",
      "265/265 [==============================] - 0s - loss: 0.6952 - acc: 0.5057     \n",
      "Epoch 3/3\n",
      "265/265 [==============================] - 0s - loss: 0.6888 - acc: 0.4981     \n"
     ]
    },
    {
     "data": {
      "text/plain": [
       "<keras.callbacks.History at 0x12d7cf450>"
      ]
     },
     "execution_count": 458,
     "metadata": {},
     "output_type": "execute_result"
    }
   ],
   "source": [
    "model.fit(x_train, Y_train, nb_epoch=3, batch_size=10)"
   ]
  },
  {
   "cell_type": "code",
   "execution_count": 460,
   "metadata": {
    "collapsed": false
   },
   "outputs": [
    {
     "name": "stdout",
     "output_type": "stream",
     "text": [
      "Epoch 1/3\n",
      "265/265 [==============================] - 1s - loss: 0.7063 - acc: 0.5132     \n",
      "Epoch 2/3\n",
      "265/265 [==============================] - 1s - loss: 0.6915 - acc: 0.4755     \n",
      "Epoch 3/3\n",
      "265/265 [==============================] - 1s - loss: 0.6847 - acc: 0.5208     \n"
     ]
    },
    {
     "data": {
      "text/plain": [
       "<keras.callbacks.History at 0x13e64db90>"
      ]
     },
     "execution_count": 460,
     "metadata": {},
     "output_type": "execute_result"
    }
   ],
   "source": [
    "two_model.fit(x_train, Y_train, nb_epoch=3, batch_size=10)"
   ]
  },
  {
   "cell_type": "code",
   "execution_count": 461,
   "metadata": {
    "collapsed": true
   },
   "outputs": [
    {
     "data": {
      "text/plain": [
       "array([ 1.,  0.,  0.,  0.,  0.,  0.,  0.,  1.,  1.,  0.,  0.,  1.,  1.,\n",
       "        0.,  1.,  0.,  0.,  0.,  1.,  0.,  0.,  1.,  1.,  0.,  0.,  1.,\n",
       "        0.,  1.,  1.,  0.,  0.,  0.,  1.,  0.,  0.,  1.,  1.,  1.,  1.,\n",
       "        1.,  1.,  1.,  1.,  1.,  0.,  0.,  1.,  0.,  0.,  1.,  0.,  0.,\n",
       "        1.,  0.,  1.,  1.,  1.,  1.,  1.,  1.,  0.,  0.,  0.,  1.,  0.,\n",
       "        1.,  1.,  1.,  1.,  1.,  0.,  1.,  1.,  0.,  0.,  1.,  0.,  0.,\n",
       "        0.,  0.,  0.,  0.,  0.,  0.,  1.,  0.,  0.,  0.,  1.,  0.,  1.,\n",
       "        0.,  1.,  1.,  0.,  1.,  1.,  0.,  1.,  1.,  0.,  1.,  1.,  0.,\n",
       "        1.,  0.,  0.,  0.,  1.,  0.,  0.,  0.,  0.,  0.,  1.,  1.,  1.,\n",
       "        0.,  1.,  0.,  1.,  0.,  1.,  0.,  0.,  1.,  1.,  0.,  1.,  1.,\n",
       "        1.,  0.,  0.,  0.,  1.,  0.,  1.,  0.,  1.,  0.,  1.,  0.,  0.,\n",
       "        1.,  1.,  1.,  1.,  1.,  1.,  1.,  1.,  0.,  0.,  0.,  1.,  1.,\n",
       "        1.,  0.,  1.,  0.,  1.,  0.,  0.,  0.,  0.,  1.,  0.,  0.,  0.,\n",
       "        0.,  0.,  0.,  1.,  0.,  1.,  0.,  1.,  0.,  1.,  0.,  0.,  1.,\n",
       "        0.,  1.,  1.,  1.,  1.,  0.,  0.,  0.,  1.,  0.,  0.,  1.,  0.,\n",
       "        0.,  0.,  0.,  1.,  1.,  0.,  0.,  0.,  1.,  0.,  1.,  0.,  0.,\n",
       "        1.,  1.,  1.,  1.,  1.,  0.,  0.,  0.,  0.,  1.,  0.,  1.,  1.,\n",
       "        1.,  0.,  0.,  0.,  0.,  1.,  1.,  0.,  1.,  0.,  1.,  1.,  0.,\n",
       "        1.,  1.,  0.,  0.,  1.,  1.,  0.,  1.,  0.,  0.,  1.,  0.,  0.,\n",
       "        1.,  0.,  1.,  1.,  1.,  1.,  0.,  1.,  1.,  1.,  1.,  1.,  1.,\n",
       "        0.,  1.,  0.,  1.,  1.])"
      ]
     },
     "execution_count": 461,
     "metadata": {},
     "output_type": "execute_result"
    }
   ],
   "source": [
    "Y_train"
   ]
  },
  {
   "cell_type": "code",
   "execution_count": null,
   "metadata": {
    "collapsed": true
   },
   "outputs": [],
   "source": [
    "# This is the basic pipeline and set up for the RNN, Can now experiment with adding layers, adding nodes, features, engineered features dropout etc\n",
    "# Will now work to do this through a script for scalability and efficiency \n"
   ]
  },
  {
   "cell_type": "code",
   "execution_count": 470,
   "metadata": {
    "collapsed": false
   },
   "outputs": [],
   "source": [
    "#playing with various parameters to see if I can increase training accuracy \n",
    "r_input = Input(shape=(60,1))\n",
    "lstm = LSTM(256, return_sequences=True)(r_input) #return_sequences=True outputs returns an output from this layer as shape (None, 60, 64) which allows for input to the next layer  \n",
    "#another layer, need return sequences\n",
    "lstm= LSTM(256, return_sequences=True)(lstm) #second layer (would add option return_sequences if intending to add another layer)\n",
    "lstm=Dropout(0.2)(lstm)\n",
    "lstm= LSTM(256)(lstm)\n",
    "pred = Dense(1, activation='sigmoid')(lstm)\n",
    "two_model = Model(input=r_input, output=pred)\n",
    "two_model.compile(loss='binary_crossentropy', optimizer='adam', metrics=['accuracy'])"
   ]
  },
  {
   "cell_type": "code",
   "execution_count": 471,
   "metadata": {
    "collapsed": false
   },
   "outputs": [
    {
     "name": "stdout",
     "output_type": "stream",
     "text": [
      "Epoch 1/3\n",
      "265/265 [==============================] - 9s - loss: 0.7623 - acc: 0.4415     \n",
      "Epoch 2/3\n",
      "265/265 [==============================] - 9s - loss: 0.7303 - acc: 0.5321     \n",
      "Epoch 3/3\n",
      "265/265 [==============================] - 9s - loss: 0.7077 - acc: 0.5019     \n"
     ]
    },
    {
     "data": {
      "text/plain": [
       "<keras.callbacks.History at 0x16284cdd0>"
      ]
     },
     "execution_count": 471,
     "metadata": {},
     "output_type": "execute_result"
    }
   ],
   "source": [
    "two_model.fit(x_train, Y_train, nb_epoch=3, batch_size=10)\n",
    "#so model with 3 x 256 node layers and 1 dropout layer does not seem to improve accuracy"
   ]
  },
  {
   "cell_type": "code",
   "execution_count": null,
   "metadata": {
    "collapsed": false
   },
   "outputs": [],
   "source": [
    "#just out of curiosity, wondering how another classifier might perform\n",
    "\n",
    "from sklearn.linear_model import LogisticRegression\n",
    "from sklearn.ensemble import RandomForestClassifier \n",
    "from sklearn.cross_validation import cross_val_score\n",
    "\n",
    "logistic = LogisticRegression()\n",
    "logistic.fit(x_train, Y_train)\n",
    "print \"Logistic Regression score: \", cross_val_score(logistic, x_train, y_train)\n",
    "\n",
    "rf = RandomForestClassifier()\n",
    "rf.fit(x_train, y_train, n_estimators=50)\n",
    "print \"RF score: \", cross_val_score(rf, x_train, Y_train) \n"
   ]
  },
  {
   "cell_type": "code",
   "execution_count": 492,
   "metadata": {
    "collapsed": false
   },
   "outputs": [
    {
     "data": {
      "text/plain": [
       "u'/Data Files/2014-/Research/HeH/HeH Partners/Fitbit Analysis/Fitbit Data Analysis/160801 Galvanize Data'"
      ]
     },
     "execution_count": 492,
     "metadata": {},
     "output_type": "execute_result"
    }
   ],
   "source": [
    "pwd"
   ]
  },
  {
   "cell_type": "code",
   "execution_count": null,
   "metadata": {
    "collapsed": true
   },
   "outputs": [],
   "source": []
  }
 ],
 "metadata": {
  "kernelspec": {
   "display_name": "Python 2",
   "language": "python",
   "name": "python2"
  },
  "language_info": {
   "codemirror_mode": {
    "name": "ipython",
    "version": 2
   },
   "file_extension": ".py",
   "mimetype": "text/x-python",
   "name": "python",
   "nbconvert_exporter": "python",
   "pygments_lexer": "ipython2",
   "version": "2.7.11"
  }
 },
 "nbformat": 4,
 "nbformat_minor": 0
}
